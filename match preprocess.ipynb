{
 "cells": [
  {
   "cell_type": "code",
   "execution_count": 1,
   "metadata": {},
   "outputs": [],
   "source": [
    "import pandas as pd\n",
    "from tqdm.notebook import tqdm\n",
    "from multiprocessing import Process, Manager, Pool\n",
    "import numpy as np"
   ]
  },
  {
   "cell_type": "markdown",
   "metadata": {},
   "source": [
    "### util method"
   ]
  },
  {
   "cell_type": "code",
   "execution_count": 2,
   "metadata": {},
   "outputs": [],
   "source": [
    "def get_rating(id_trabalhador, escolaridade_trabalhador, graduacao_trabalhador, \n",
    "               cidade_trabalhador, escolaridade_vaga, graduacao_vaga, cidade_vaga, id_vaga):\n",
    "    points = 0\n",
    "    if escolaridade_trabalhador == escolaridade_vaga:\n",
    "        points += 1\n",
    "    if graduacao_trabalhador != np.nan and graduacao_trabalhador == graduacao_vaga:\n",
    "        points += 1\n",
    "    if cidade_trabalhador == cidade_vaga:\n",
    "        points += 1\n",
    "    \n",
    "    return points\n",
    "    #shared_list.append({'id_trabalhador': id_trabalhador, 'id_vaga':id_vaga, 'rating':rating})"
   ]
  },
  {
   "cell_type": "markdown",
   "metadata": {},
   "source": [
    "## load trabalhadores"
   ]
  },
  {
   "cell_type": "code",
   "execution_count": 3,
   "metadata": {},
   "outputs": [
    {
     "name": "stderr",
     "output_type": "stream",
     "text": [
      "/home/chris/anaconda3/lib/python3.7/site-packages/IPython/core/interactiveshell.py:3049: DtypeWarning: Columns (3,4) have mixed types. Specify dtype option on import or set low_memory=False.\n",
      "  interactivity=interactivity, compiler=compiler, result=result)\n"
     ]
    }
   ],
   "source": [
    "df_trabalhadores = pd.read_csv(\"data/D_ETL_IMO_EXTRACAO_SINE_ABERTO_TRABALHADORES_SP.csv\", sep=\";\", encoding=\"iso8859-1\")"
   ]
  },
  {
   "cell_type": "code",
   "execution_count": 4,
   "metadata": {},
   "outputs": [],
   "source": [
    "df_trabalhadores.dropna(subset=['PRETENSOES'], inplace=True)\n",
    "df_trabalhadores[['PRETENSOES','LIXO']] = df_trabalhadores.PRETENSOES.str.split(\"(\",1,expand=True)"
   ]
  },
  {
   "cell_type": "code",
   "execution_count": 5,
   "metadata": {},
   "outputs": [
    {
     "name": "stdout",
     "output_type": "stream",
     "text": [
      "(4000, 22)\n"
     ]
    },
    {
     "data": {
      "text/html": [
       "<div>\n",
       "<style scoped>\n",
       "    .dataframe tbody tr th:only-of-type {\n",
       "        vertical-align: middle;\n",
       "    }\n",
       "\n",
       "    .dataframe tbody tr th {\n",
       "        vertical-align: top;\n",
       "    }\n",
       "\n",
       "    .dataframe thead th {\n",
       "        text-align: right;\n",
       "    }\n",
       "</style>\n",
       "<table border=\"1\" class=\"dataframe\">\n",
       "  <thead>\n",
       "    <tr style=\"text-align: right;\">\n",
       "      <th></th>\n",
       "      <th>NACIONALIDADE</th>\n",
       "      <th>DEFICIENCIAS</th>\n",
       "      <th>BAIRRO</th>\n",
       "      <th>CEP</th>\n",
       "      <th>CODIGO_MUNICIPIO_IBGE</th>\n",
       "      <th>NOME_MUNICIPIO</th>\n",
       "      <th>UF</th>\n",
       "      <th>ESCOLARIDADE</th>\n",
       "      <th>ESTUDANTE</th>\n",
       "      <th>CURSOS_PROFISSIONALIZANTES</th>\n",
       "      <th>...</th>\n",
       "      <th>IDIOMAS</th>\n",
       "      <th>HABILITACAO</th>\n",
       "      <th>VEICULOS</th>\n",
       "      <th>DISP_VIAJAR</th>\n",
       "      <th>DISP_DORMIR_EMP</th>\n",
       "      <th>DISP_AUSENTAR_DOMIC</th>\n",
       "      <th>PRETENSOES</th>\n",
       "      <th>MUNICIPIOS_INTERESSE</th>\n",
       "      <th>LIXO</th>\n",
       "      <th>id_trabalhador</th>\n",
       "    </tr>\n",
       "  </thead>\n",
       "  <tbody>\n",
       "    <tr>\n",
       "      <th>29636</th>\n",
       "      <td>IGNORADO</td>\n",
       "      <td>NaN</td>\n",
       "      <td>BELA VISTA</td>\n",
       "      <td>1.3112e+06</td>\n",
       "      <td>355030</td>\n",
       "      <td>SAO PAULO</td>\n",
       "      <td>SP</td>\n",
       "      <td>Superior Completo</td>\n",
       "      <td>N</td>\n",
       "      <td>NaN</td>\n",
       "      <td>...</td>\n",
       "      <td>NaN</td>\n",
       "      <td>Nenhum</td>\n",
       "      <td>N</td>\n",
       "      <td>N</td>\n",
       "      <td>N</td>\n",
       "      <td>N</td>\n",
       "      <td>142335-Analista de pesquisa de mercado</td>\n",
       "      <td>NaN</td>\n",
       "      <td>N,94,0,Indiferente)</td>\n",
       "      <td>29636</td>\n",
       "    </tr>\n",
       "    <tr>\n",
       "      <th>3254047</th>\n",
       "      <td>BRASILEIRA</td>\n",
       "      <td>NaN</td>\n",
       "      <td>NaN</td>\n",
       "      <td>7.71467e+06</td>\n",
       "      <td>350900</td>\n",
       "      <td>CAIEIRAS</td>\n",
       "      <td>SP</td>\n",
       "      <td>Médio Completo</td>\n",
       "      <td>N</td>\n",
       "      <td>NaN</td>\n",
       "      <td>...</td>\n",
       "      <td>NaN</td>\n",
       "      <td>Nenhum</td>\n",
       "      <td>N</td>\n",
       "      <td>N</td>\n",
       "      <td>N</td>\n",
       "      <td>N</td>\n",
       "      <td>784205-Alimentador de linha de produção</td>\n",
       "      <td>NaN</td>\n",
       "      <td>N,28,0,Indiferente)|914405-Auxiliar de mecânic...</td>\n",
       "      <td>3254047</td>\n",
       "    </tr>\n",
       "    <tr>\n",
       "      <th>3603160</th>\n",
       "      <td>BRASILEIRA</td>\n",
       "      <td>NaN</td>\n",
       "      <td>ALTO INDUSTRIAL</td>\n",
       "      <td>9.7612e+06</td>\n",
       "      <td>354870</td>\n",
       "      <td>SAO BERNARDO DO CAMPO</td>\n",
       "      <td>SP</td>\n",
       "      <td>Médio Completo</td>\n",
       "      <td>N</td>\n",
       "      <td>NaN</td>\n",
       "      <td>...</td>\n",
       "      <td>NaN</td>\n",
       "      <td>Nenhum</td>\n",
       "      <td>N</td>\n",
       "      <td>N</td>\n",
       "      <td>N</td>\n",
       "      <td>N</td>\n",
       "      <td>422310-OPERADOR DE TELEMARKETING ATIVO E RECEP...</td>\n",
       "      <td>NaN</td>\n",
       "      <td>N,84,0,Indiferente)</td>\n",
       "      <td>3603160</td>\n",
       "    </tr>\n",
       "    <tr>\n",
       "      <th>1950664</th>\n",
       "      <td>BRASILEIRA</td>\n",
       "      <td>NaN</td>\n",
       "      <td>MONTANHAO</td>\n",
       "      <td>9.78345e+06</td>\n",
       "      <td>354870</td>\n",
       "      <td>SAO BERNARDO DO CAMPO</td>\n",
       "      <td>SP</td>\n",
       "      <td>Médio Completo</td>\n",
       "      <td>N</td>\n",
       "      <td>NaN</td>\n",
       "      <td>...</td>\n",
       "      <td>NaN</td>\n",
       "      <td>Nenhum</td>\n",
       "      <td>N</td>\n",
       "      <td>S</td>\n",
       "      <td>S</td>\n",
       "      <td>S</td>\n",
       "      <td>253115-Publicitário</td>\n",
       "      <td>NaN</td>\n",
       "      <td>N,13,0,Indiferente)|262410-Desenhista industri...</td>\n",
       "      <td>1950664</td>\n",
       "    </tr>\n",
       "    <tr>\n",
       "      <th>1047152</th>\n",
       "      <td>BRASILEIRA</td>\n",
       "      <td>NaN</td>\n",
       "      <td>JARDIM IMPERATRIZ</td>\n",
       "      <td>6859400</td>\n",
       "      <td>352220</td>\n",
       "      <td>ITAPECERICA DA SERRA</td>\n",
       "      <td>SP</td>\n",
       "      <td>Médio Incompleto</td>\n",
       "      <td>S</td>\n",
       "      <td>NaN</td>\n",
       "      <td>...</td>\n",
       "      <td>NaN</td>\n",
       "      <td>Nenhum</td>\n",
       "      <td>N</td>\n",
       "      <td>N</td>\n",
       "      <td>N</td>\n",
       "      <td>N</td>\n",
       "      <td>411005-Auxiliar administrativo</td>\n",
       "      <td>NaN</td>\n",
       "      <td>S,0,0,Indiferente)|422315-Atendente central te...</td>\n",
       "      <td>1047152</td>\n",
       "    </tr>\n",
       "  </tbody>\n",
       "</table>\n",
       "<p>5 rows × 22 columns</p>\n",
       "</div>"
      ],
      "text/plain": [
       "        NACIONALIDADE DEFICIENCIAS             BAIRRO          CEP  \\\n",
       "29636        IGNORADO          NaN         BELA VISTA   1.3112e+06   \n",
       "3254047    BRASILEIRA          NaN                NaN  7.71467e+06   \n",
       "3603160    BRASILEIRA          NaN    ALTO INDUSTRIAL   9.7612e+06   \n",
       "1950664    BRASILEIRA          NaN          MONTANHAO  9.78345e+06   \n",
       "1047152    BRASILEIRA          NaN  JARDIM IMPERATRIZ      6859400   \n",
       "\n",
       "        CODIGO_MUNICIPIO_IBGE         NOME_MUNICIPIO  UF       ESCOLARIDADE  \\\n",
       "29636                  355030              SAO PAULO  SP  Superior Completo   \n",
       "3254047                350900               CAIEIRAS  SP     Médio Completo   \n",
       "3603160                354870  SAO BERNARDO DO CAMPO  SP     Médio Completo   \n",
       "1950664                354870  SAO BERNARDO DO CAMPO  SP     Médio Completo   \n",
       "1047152                352220   ITAPECERICA DA SERRA  SP   Médio Incompleto   \n",
       "\n",
       "        ESTUDANTE CURSOS_PROFISSIONALIZANTES  ... IDIOMAS HABILITACAO  \\\n",
       "29636           N                        NaN  ...     NaN      Nenhum   \n",
       "3254047         N                        NaN  ...     NaN      Nenhum   \n",
       "3603160         N                        NaN  ...     NaN      Nenhum   \n",
       "1950664         N                        NaN  ...     NaN      Nenhum   \n",
       "1047152         S                        NaN  ...     NaN      Nenhum   \n",
       "\n",
       "        VEICULOS DISP_VIAJAR DISP_DORMIR_EMP DISP_AUSENTAR_DOMIC  \\\n",
       "29636          N           N               N                   N   \n",
       "3254047        N           N               N                   N   \n",
       "3603160        N           N               N                   N   \n",
       "1950664        N           S               S                   S   \n",
       "1047152        N           N               N                   N   \n",
       "\n",
       "                                                PRETENSOES  \\\n",
       "29636               142335-Analista de pesquisa de mercado   \n",
       "3254047            784205-Alimentador de linha de produção   \n",
       "3603160  422310-OPERADOR DE TELEMARKETING ATIVO E RECEP...   \n",
       "1950664                                253115-Publicitário   \n",
       "1047152                     411005-Auxiliar administrativo   \n",
       "\n",
       "        MUNICIPIOS_INTERESSE  \\\n",
       "29636                    NaN   \n",
       "3254047                  NaN   \n",
       "3603160                  NaN   \n",
       "1950664                  NaN   \n",
       "1047152                  NaN   \n",
       "\n",
       "                                                      LIXO id_trabalhador  \n",
       "29636                                  N,94,0,Indiferente)          29636  \n",
       "3254047  N,28,0,Indiferente)|914405-Auxiliar de mecânic...        3254047  \n",
       "3603160                                N,84,0,Indiferente)        3603160  \n",
       "1950664  N,13,0,Indiferente)|262410-Desenhista industri...        1950664  \n",
       "1047152  S,0,0,Indiferente)|422315-Atendente central te...        1047152  \n",
       "\n",
       "[5 rows x 22 columns]"
      ]
     },
     "execution_count": 5,
     "metadata": {},
     "output_type": "execute_result"
    }
   ],
   "source": [
    "#df_trabalhadores = df_trabalhadores[:30000]\n",
    "df_trabalhadores = df_trabalhadores.sample(7000)\n",
    "df_trabalhadores['id_trabalhador'] = df_trabalhadores.index\n",
    "print(df_trabalhadores.shape)\n",
    "df_trabalhadores.head()"
   ]
  },
  {
   "cell_type": "markdown",
   "metadata": {},
   "source": [
    "## load vagas"
   ]
  },
  {
   "cell_type": "code",
   "execution_count": 6,
   "metadata": {},
   "outputs": [
    {
     "name": "stdout",
     "output_type": "stream",
     "text": [
      "(7000, 7)\n"
     ]
    },
    {
     "data": {
      "text/html": [
       "<div>\n",
       "<style scoped>\n",
       "    .dataframe tbody tr th:only-of-type {\n",
       "        vertical-align: middle;\n",
       "    }\n",
       "\n",
       "    .dataframe tbody tr th {\n",
       "        vertical-align: top;\n",
       "    }\n",
       "\n",
       "    .dataframe thead th {\n",
       "        text-align: right;\n",
       "    }\n",
       "</style>\n",
       "<table border=\"1\" class=\"dataframe\">\n",
       "  <thead>\n",
       "    <tr style=\"text-align: right;\">\n",
       "      <th></th>\n",
       "      <th>cidade</th>\n",
       "      <th>escolaridade</th>\n",
       "      <th>graduacao</th>\n",
       "      <th>id_empresa</th>\n",
       "      <th>industria</th>\n",
       "      <th>nome_empresa</th>\n",
       "      <th>posicao</th>\n",
       "    </tr>\n",
       "  </thead>\n",
       "  <tbody>\n",
       "    <tr>\n",
       "      <th>88442</th>\n",
       "      <td>BOTUCATU</td>\n",
       "      <td>Mestrado</td>\n",
       "      <td>processos gerenciais</td>\n",
       "      <td>89b5308b-3a13-4b6f-91d7-d0b2ff67f674</td>\n",
       "      <td>Químico</td>\n",
       "      <td>engage e-business partnerships</td>\n",
       "      <td>514325-Trabalhador da manutenção de edificações</td>\n",
       "    </tr>\n",
       "    <tr>\n",
       "      <th>14946</th>\n",
       "      <td>MOGI GUACU</td>\n",
       "      <td>Médio Completo</td>\n",
       "      <td>Nenhum</td>\n",
       "      <td>50cea7d9-9230-4c4e-8758-98db4d0262e4</td>\n",
       "      <td>Elétrico</td>\n",
       "      <td>generate virtual interfaces</td>\n",
       "      <td>521125-Repositor de mercadorias</td>\n",
       "    </tr>\n",
       "    <tr>\n",
       "      <th>62826</th>\n",
       "      <td>CAMPINAS</td>\n",
       "      <td>Nenhum</td>\n",
       "      <td>Nenhum</td>\n",
       "      <td>5f368d36-9a73-46ca-96c0-c1f684f5e6dd</td>\n",
       "      <td>Metal Mecânico</td>\n",
       "      <td>reinvent transparent mindshare</td>\n",
       "      <td>513505-Auxiliar de cozinha</td>\n",
       "    </tr>\n",
       "    <tr>\n",
       "      <th>67755</th>\n",
       "      <td>BAURU</td>\n",
       "      <td>Nenhum</td>\n",
       "      <td>Nenhum</td>\n",
       "      <td>02f6c0c6-d6cd-4f7d-978e-5801ee68858b</td>\n",
       "      <td>Logística</td>\n",
       "      <td>cultivate interactive systems</td>\n",
       "      <td>513505-Auxiliar nos serviços de alimentação</td>\n",
       "    </tr>\n",
       "    <tr>\n",
       "      <th>66930</th>\n",
       "      <td>ITAPEVI</td>\n",
       "      <td>Fundamental Completo</td>\n",
       "      <td>Nenhum</td>\n",
       "      <td>1a14be0a-d3d4-41f9-ad79-b75a75f603d6</td>\n",
       "      <td>Administrativo</td>\n",
       "      <td>re-intermediate B2B e-commerce</td>\n",
       "      <td>512105-Empregado  doméstico  nos serviços gerais</td>\n",
       "    </tr>\n",
       "  </tbody>\n",
       "</table>\n",
       "</div>"
      ],
      "text/plain": [
       "           cidade          escolaridade             graduacao  \\\n",
       "88442    BOTUCATU              Mestrado  processos gerenciais   \n",
       "14946  MOGI GUACU        Médio Completo                Nenhum   \n",
       "62826    CAMPINAS                Nenhum                Nenhum   \n",
       "67755       BAURU                Nenhum                Nenhum   \n",
       "66930     ITAPEVI  Fundamental Completo                Nenhum   \n",
       "\n",
       "                                 id_empresa       industria  \\\n",
       "88442  89b5308b-3a13-4b6f-91d7-d0b2ff67f674         Químico   \n",
       "14946  50cea7d9-9230-4c4e-8758-98db4d0262e4        Elétrico   \n",
       "62826  5f368d36-9a73-46ca-96c0-c1f684f5e6dd  Metal Mecânico   \n",
       "67755  02f6c0c6-d6cd-4f7d-978e-5801ee68858b       Logística   \n",
       "66930  1a14be0a-d3d4-41f9-ad79-b75a75f603d6  Administrativo   \n",
       "\n",
       "                         nome_empresa  \\\n",
       "88442  engage e-business partnerships   \n",
       "14946     generate virtual interfaces   \n",
       "62826  reinvent transparent mindshare   \n",
       "67755   cultivate interactive systems   \n",
       "66930  re-intermediate B2B e-commerce   \n",
       "\n",
       "                                                posicao  \n",
       "88442   514325-Trabalhador da manutenção de edificações  \n",
       "14946                   521125-Repositor de mercadorias  \n",
       "62826                        513505-Auxiliar de cozinha  \n",
       "67755       513505-Auxiliar nos serviços de alimentação  \n",
       "66930  512105-Empregado  doméstico  nos serviços gerais  "
      ]
     },
     "execution_count": 6,
     "metadata": {},
     "output_type": "execute_result"
    }
   ],
   "source": [
    "df_vagas = pd.read_csv(\"data/vagas_mock.csv\")\n",
    "#df_vagas = df_vagas[:10000]\n",
    "df_vagas = df_vagas.sample(3000)\n",
    "print(df_vagas.shape)\n",
    "df_vagas.head()"
   ]
  },
  {
   "cell_type": "markdown",
   "metadata": {},
   "source": [
    "## Feature engineering\n",
    "automaticamente \"avalia\" uma posicao para um trabalhador"
   ]
  },
  {
   "cell_type": "code",
   "execution_count": 7,
   "metadata": {},
   "outputs": [
    {
     "data": {
      "application/vnd.jupyter.widget-view+json": {
       "model_id": "ade8baeb953a4f41b37ea1b7050502b2",
       "version_major": 2,
       "version_minor": 0
      },
      "text/plain": [
       "HBox(children=(FloatProgress(value=0.0, max=4000.0), HTML(value='')))"
      ]
     },
     "metadata": {},
     "output_type": "display_data"
    },
    {
     "name": "stdout",
     "output_type": "stream",
     "text": [
      "\n"
     ]
    }
   ],
   "source": [
    "rating_list = []\n",
    "for index, row in tqdm(df_trabalhadores.iterrows(), total=df_trabalhadores.shape[0]):\n",
    "    id_trabalhador = row['id_trabalhador']\n",
    "    escolaridade_trabalhador = row['ESCOLARIDADE']\n",
    "    graduacao_trabalhador = row['GRADUACOES']\n",
    "    cidade_trabalhador = row['NOME_MUNICIPIO']\n",
    "    \n",
    "    for index_vaga, row_vaga in df_vagas.iterrows():\n",
    "        escolaridade_vaga = row_vaga['escolaridade']\n",
    "        graduacao_vaga = row_vaga['graduacao']\n",
    "        cidade_vaga = row_vaga['cidade']\n",
    "        id_vaga = row_vaga['id_empresa']\n",
    "        \n",
    "        \n",
    "        rating = get_rating(id_trabalhador=id_trabalhador, escolaridade_trabalhador=escolaridade_trabalhador, graduacao_trabalhador=graduacao_trabalhador, \n",
    "               cidade_trabalhador=cidade_trabalhador, escolaridade_vaga=escolaridade_vaga, graduacao_vaga=graduacao_vaga, cidade_vaga=cidade_vaga, id_vaga=id_vaga)\n",
    "        rating_list.append({'id_trabalhador':id_trabalhador, 'id_posicao':id_vaga, 'rating':rating})"
   ]
  },
  {
   "cell_type": "code",
   "execution_count": 8,
   "metadata": {},
   "outputs": [],
   "source": [
    "del(df_trabalhadores)\n",
    "del(df_vagas)"
   ]
  },
  {
   "cell_type": "code",
   "execution_count": 9,
   "metadata": {},
   "outputs": [
    {
     "name": "stdout",
     "output_type": "stream",
     "text": [
      "(28000000, 3)\n"
     ]
    },
    {
     "data": {
      "text/html": [
       "<div>\n",
       "<style scoped>\n",
       "    .dataframe tbody tr th:only-of-type {\n",
       "        vertical-align: middle;\n",
       "    }\n",
       "\n",
       "    .dataframe tbody tr th {\n",
       "        vertical-align: top;\n",
       "    }\n",
       "\n",
       "    .dataframe thead th {\n",
       "        text-align: right;\n",
       "    }\n",
       "</style>\n",
       "<table border=\"1\" class=\"dataframe\">\n",
       "  <thead>\n",
       "    <tr style=\"text-align: right;\">\n",
       "      <th></th>\n",
       "      <th>id_posicao</th>\n",
       "      <th>id_trabalhador</th>\n",
       "      <th>rating</th>\n",
       "    </tr>\n",
       "  </thead>\n",
       "  <tbody>\n",
       "    <tr>\n",
       "      <th>0</th>\n",
       "      <td>89b5308b-3a13-4b6f-91d7-d0b2ff67f674</td>\n",
       "      <td>29636</td>\n",
       "      <td>0</td>\n",
       "    </tr>\n",
       "    <tr>\n",
       "      <th>1</th>\n",
       "      <td>50cea7d9-9230-4c4e-8758-98db4d0262e4</td>\n",
       "      <td>29636</td>\n",
       "      <td>0</td>\n",
       "    </tr>\n",
       "    <tr>\n",
       "      <th>2</th>\n",
       "      <td>5f368d36-9a73-46ca-96c0-c1f684f5e6dd</td>\n",
       "      <td>29636</td>\n",
       "      <td>0</td>\n",
       "    </tr>\n",
       "    <tr>\n",
       "      <th>3</th>\n",
       "      <td>02f6c0c6-d6cd-4f7d-978e-5801ee68858b</td>\n",
       "      <td>29636</td>\n",
       "      <td>0</td>\n",
       "    </tr>\n",
       "    <tr>\n",
       "      <th>4</th>\n",
       "      <td>1a14be0a-d3d4-41f9-ad79-b75a75f603d6</td>\n",
       "      <td>29636</td>\n",
       "      <td>0</td>\n",
       "    </tr>\n",
       "  </tbody>\n",
       "</table>\n",
       "</div>"
      ],
      "text/plain": [
       "                             id_posicao  id_trabalhador  rating\n",
       "0  89b5308b-3a13-4b6f-91d7-d0b2ff67f674           29636       0\n",
       "1  50cea7d9-9230-4c4e-8758-98db4d0262e4           29636       0\n",
       "2  5f368d36-9a73-46ca-96c0-c1f684f5e6dd           29636       0\n",
       "3  02f6c0c6-d6cd-4f7d-978e-5801ee68858b           29636       0\n",
       "4  1a14be0a-d3d4-41f9-ad79-b75a75f603d6           29636       0"
      ]
     },
     "execution_count": 9,
     "metadata": {},
     "output_type": "execute_result"
    }
   ],
   "source": [
    "df_match = pd.DataFrame(rating_list)\n",
    "print(df_match.shape)\n",
    "df_match.head()"
   ]
  },
  {
   "cell_type": "code",
   "execution_count": 10,
   "metadata": {},
   "outputs": [],
   "source": [
    "del(rating_list)"
   ]
  },
  {
   "cell_type": "code",
   "execution_count": 11,
   "metadata": {},
   "outputs": [],
   "source": [
    "df_match.rating.value_counts().plot.bar();"
   ]
  },
  {
   "cell_type": "code",
   "execution_count": 12,
   "metadata": {},
   "outputs": [
    {
     "data": {
      "text/plain": [
       "0    18099338\n",
       "1     9813880\n",
       "2       86765\n",
       "3          17\n",
       "Name: rating, dtype: int64"
      ]
     },
     "execution_count": 12,
     "metadata": {},
     "output_type": "execute_result"
    }
   ],
   "source": [
    "df_match.rating.value_counts()"
   ]
  },
  {
   "cell_type": "code",
   "execution_count": 13,
   "metadata": {},
   "outputs": [],
   "source": [
    "df_match.to_csv(\"data/matches2.csv\")"
   ]
  },
  {
   "cell_type": "code",
   "execution_count": null,
   "metadata": {},
   "outputs": [],
   "source": []
  }
 ],
 "metadata": {
  "kernelspec": {
   "display_name": "Python 3",
   "language": "python",
   "name": "python3"
  },
  "language_info": {
   "codemirror_mode": {
    "name": "ipython",
    "version": 3
   },
   "file_extension": ".py",
   "mimetype": "text/x-python",
   "name": "python",
   "nbconvert_exporter": "python",
   "pygments_lexer": "ipython3",
   "version": "3.7.3"
  }
 },
 "nbformat": 4,
 "nbformat_minor": 2
}
