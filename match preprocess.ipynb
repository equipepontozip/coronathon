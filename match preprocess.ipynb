{
 "cells": [
  {
   "cell_type": "code",
   "execution_count": 1,
   "metadata": {},
   "outputs": [],
   "source": [
    "import pandas as pd\n",
    "from tqdm.notebook import tqdm\n",
    "from multiprocessing import Process, Manager, Pool"
   ]
  },
  {
   "cell_type": "markdown",
   "metadata": {},
   "source": [
    "## load trabalhadores"
   ]
  },
  {
   "cell_type": "code",
   "execution_count": 2,
   "metadata": {},
   "outputs": [
    {
     "name": "stderr",
     "output_type": "stream",
     "text": [
      "/home/chris/anaconda3/lib/python3.7/site-packages/IPython/core/interactiveshell.py:3049: DtypeWarning: Columns (3,4) have mixed types. Specify dtype option on import or set low_memory=False.\n",
      "  interactivity=interactivity, compiler=compiler, result=result)\n"
     ]
    }
   ],
   "source": [
    "df_trabalhadores = pd.read_csv(\"data/D_ETL_IMO_EXTRACAO_SINE_ABERTO_TRABALHADORES_SP.csv\", sep=\";\", encoding=\"iso8859-1\")"
   ]
  },
  {
   "cell_type": "code",
   "execution_count": 3,
   "metadata": {},
   "outputs": [],
   "source": [
    "df_trabalhadores.dropna(subset=['PRETENSOES'], inplace=True)\n",
    "df_trabalhadores[['PRETENSOES','LIXO']] = df_trabalhadores.PRETENSOES.str.split(\"(\",1,expand=True)"
   ]
  },
  {
   "cell_type": "code",
   "execution_count": 4,
   "metadata": {},
   "outputs": [
    {
     "name": "stdout",
     "output_type": "stream",
     "text": [
      "(30000, 22)\n"
     ]
    },
    {
     "data": {
      "text/html": [
       "<div>\n",
       "<style scoped>\n",
       "    .dataframe tbody tr th:only-of-type {\n",
       "        vertical-align: middle;\n",
       "    }\n",
       "\n",
       "    .dataframe tbody tr th {\n",
       "        vertical-align: top;\n",
       "    }\n",
       "\n",
       "    .dataframe thead th {\n",
       "        text-align: right;\n",
       "    }\n",
       "</style>\n",
       "<table border=\"1\" class=\"dataframe\">\n",
       "  <thead>\n",
       "    <tr style=\"text-align: right;\">\n",
       "      <th></th>\n",
       "      <th>NACIONALIDADE</th>\n",
       "      <th>DEFICIENCIAS</th>\n",
       "      <th>BAIRRO</th>\n",
       "      <th>CEP</th>\n",
       "      <th>CODIGO_MUNICIPIO_IBGE</th>\n",
       "      <th>NOME_MUNICIPIO</th>\n",
       "      <th>UF</th>\n",
       "      <th>ESCOLARIDADE</th>\n",
       "      <th>ESTUDANTE</th>\n",
       "      <th>CURSOS_PROFISSIONALIZANTES</th>\n",
       "      <th>...</th>\n",
       "      <th>IDIOMAS</th>\n",
       "      <th>HABILITACAO</th>\n",
       "      <th>VEICULOS</th>\n",
       "      <th>DISP_VIAJAR</th>\n",
       "      <th>DISP_DORMIR_EMP</th>\n",
       "      <th>DISP_AUSENTAR_DOMIC</th>\n",
       "      <th>PRETENSOES</th>\n",
       "      <th>MUNICIPIOS_INTERESSE</th>\n",
       "      <th>LIXO</th>\n",
       "      <th>id_trabalhador</th>\n",
       "    </tr>\n",
       "  </thead>\n",
       "  <tbody>\n",
       "    <tr>\n",
       "      <th>0</th>\n",
       "      <td>BRASILEIRA</td>\n",
       "      <td>NaN</td>\n",
       "      <td>VILA UNIDOS</td>\n",
       "      <td>1.22145e+07</td>\n",
       "      <td>354990</td>\n",
       "      <td>SAO JOSE DOS CAMPOS</td>\n",
       "      <td>SP</td>\n",
       "      <td>Superior Incompleto</td>\n",
       "      <td>S</td>\n",
       "      <td>NaN</td>\n",
       "      <td>...</td>\n",
       "      <td>NaN</td>\n",
       "      <td>AB</td>\n",
       "      <td>N</td>\n",
       "      <td>N</td>\n",
       "      <td>N</td>\n",
       "      <td>N</td>\n",
       "      <td>521110-Vendedor de comércio varejista</td>\n",
       "      <td>NaN</td>\n",
       "      <td>N,54,0,Indiferente)</td>\n",
       "      <td>0</td>\n",
       "    </tr>\n",
       "    <tr>\n",
       "      <th>1</th>\n",
       "      <td>BRASILEIRA</td>\n",
       "      <td>NaN</td>\n",
       "      <td>MONTANHAO</td>\n",
       "      <td>9.78414e+06</td>\n",
       "      <td>354870</td>\n",
       "      <td>SAO BERNARDO DO CAMPO</td>\n",
       "      <td>SP</td>\n",
       "      <td>Médio Completo</td>\n",
       "      <td>N</td>\n",
       "      <td>NaN</td>\n",
       "      <td>...</td>\n",
       "      <td>NaN</td>\n",
       "      <td>Nenhum</td>\n",
       "      <td>N</td>\n",
       "      <td>N</td>\n",
       "      <td>N</td>\n",
       "      <td>N</td>\n",
       "      <td>513505-Ajudante de cozinha</td>\n",
       "      <td>NaN</td>\n",
       "      <td>N,0,0,Indiferente)|514320-Auxiliar de limpeza(...</td>\n",
       "      <td>1</td>\n",
       "    </tr>\n",
       "    <tr>\n",
       "      <th>2</th>\n",
       "      <td>BRASILEIRA</td>\n",
       "      <td>NaN</td>\n",
       "      <td>JARDIM SANTA TEREZINHA (ZON</td>\n",
       "      <td>8.43002e+06</td>\n",
       "      <td>355030</td>\n",
       "      <td>SAO PAULO</td>\n",
       "      <td>SP</td>\n",
       "      <td>Médio Completo</td>\n",
       "      <td>N</td>\n",
       "      <td>NaN</td>\n",
       "      <td>...</td>\n",
       "      <td>NaN</td>\n",
       "      <td>Nenhum</td>\n",
       "      <td>N</td>\n",
       "      <td>N</td>\n",
       "      <td>N</td>\n",
       "      <td>N</td>\n",
       "      <td>411005-Auxiliar administrativo</td>\n",
       "      <td>NaN</td>\n",
       "      <td>N,0,0,Indiferente)|413110-Auxiliar financeiro(...</td>\n",
       "      <td>2</td>\n",
       "    </tr>\n",
       "    <tr>\n",
       "      <th>3</th>\n",
       "      <td>BRASILEIRA</td>\n",
       "      <td>NaN</td>\n",
       "      <td>NaN</td>\n",
       "      <td>6.62613e+06</td>\n",
       "      <td>352500</td>\n",
       "      <td>JANDIRA</td>\n",
       "      <td>SP</td>\n",
       "      <td>Médio Completo</td>\n",
       "      <td>S</td>\n",
       "      <td>NaN</td>\n",
       "      <td>...</td>\n",
       "      <td>NaN</td>\n",
       "      <td>Nenhum</td>\n",
       "      <td>N</td>\n",
       "      <td>S</td>\n",
       "      <td>N</td>\n",
       "      <td>N</td>\n",
       "      <td>413205-ATENDENTE DE AGENCIA</td>\n",
       "      <td>NaN</td>\n",
       "      <td>S,0,0,Indiferente)|422305-OPERADOR DE TELEMARK...</td>\n",
       "      <td>3</td>\n",
       "    </tr>\n",
       "    <tr>\n",
       "      <th>4</th>\n",
       "      <td>BRASILEIRA</td>\n",
       "      <td>NaN</td>\n",
       "      <td>NaN</td>\n",
       "      <td>1.80654e+07</td>\n",
       "      <td>355220</td>\n",
       "      <td>SOROCABA</td>\n",
       "      <td>SP</td>\n",
       "      <td>Médio Completo</td>\n",
       "      <td>N</td>\n",
       "      <td>NaN</td>\n",
       "      <td>...</td>\n",
       "      <td>NaN</td>\n",
       "      <td>Nenhum</td>\n",
       "      <td>N</td>\n",
       "      <td>S</td>\n",
       "      <td>S</td>\n",
       "      <td>S</td>\n",
       "      <td>422305-OPERADOR DE TELEMARKETING ATIVO</td>\n",
       "      <td>NaN</td>\n",
       "      <td>N,17,0,Indiferente)|514320-Auxiliar de limpeza...</td>\n",
       "      <td>4</td>\n",
       "    </tr>\n",
       "  </tbody>\n",
       "</table>\n",
       "<p>5 rows × 22 columns</p>\n",
       "</div>"
      ],
      "text/plain": [
       "  NACIONALIDADE DEFICIENCIAS                       BAIRRO          CEP  \\\n",
       "0    BRASILEIRA          NaN                  VILA UNIDOS  1.22145e+07   \n",
       "1    BRASILEIRA          NaN                    MONTANHAO  9.78414e+06   \n",
       "2    BRASILEIRA          NaN  JARDIM SANTA TEREZINHA (ZON  8.43002e+06   \n",
       "3    BRASILEIRA          NaN                          NaN  6.62613e+06   \n",
       "4    BRASILEIRA          NaN                          NaN  1.80654e+07   \n",
       "\n",
       "  CODIGO_MUNICIPIO_IBGE         NOME_MUNICIPIO  UF         ESCOLARIDADE  \\\n",
       "0                354990    SAO JOSE DOS CAMPOS  SP  Superior Incompleto   \n",
       "1                354870  SAO BERNARDO DO CAMPO  SP       Médio Completo   \n",
       "2                355030              SAO PAULO  SP       Médio Completo   \n",
       "3                352500                JANDIRA  SP       Médio Completo   \n",
       "4                355220               SOROCABA  SP       Médio Completo   \n",
       "\n",
       "  ESTUDANTE CURSOS_PROFISSIONALIZANTES  ... IDIOMAS HABILITACAO VEICULOS  \\\n",
       "0         S                        NaN  ...     NaN          AB        N   \n",
       "1         N                        NaN  ...     NaN      Nenhum        N   \n",
       "2         N                        NaN  ...     NaN      Nenhum        N   \n",
       "3         S                        NaN  ...     NaN      Nenhum        N   \n",
       "4         N                        NaN  ...     NaN      Nenhum        N   \n",
       "\n",
       "  DISP_VIAJAR DISP_DORMIR_EMP DISP_AUSENTAR_DOMIC  \\\n",
       "0           N               N                   N   \n",
       "1           N               N                   N   \n",
       "2           N               N                   N   \n",
       "3           S               N                   N   \n",
       "4           S               S                   S   \n",
       "\n",
       "                               PRETENSOES MUNICIPIOS_INTERESSE  \\\n",
       "0   521110-Vendedor de comércio varejista                  NaN   \n",
       "1              513505-Ajudante de cozinha                  NaN   \n",
       "2          411005-Auxiliar administrativo                  NaN   \n",
       "3             413205-ATENDENTE DE AGENCIA                  NaN   \n",
       "4  422305-OPERADOR DE TELEMARKETING ATIVO                  NaN   \n",
       "\n",
       "                                                LIXO id_trabalhador  \n",
       "0                                N,54,0,Indiferente)              0  \n",
       "1  N,0,0,Indiferente)|514320-Auxiliar de limpeza(...              1  \n",
       "2  N,0,0,Indiferente)|413110-Auxiliar financeiro(...              2  \n",
       "3  S,0,0,Indiferente)|422305-OPERADOR DE TELEMARK...              3  \n",
       "4  N,17,0,Indiferente)|514320-Auxiliar de limpeza...              4  \n",
       "\n",
       "[5 rows x 22 columns]"
      ]
     },
     "execution_count": 4,
     "metadata": {},
     "output_type": "execute_result"
    }
   ],
   "source": [
    "df_trabalhadores = df_trabalhadores[:30000]\n",
    "df_trabalhadores['id_trabalhador'] = df_trabalhadores.index\n",
    "print(df_trabalhadores.shape)\n",
    "df_trabalhadores.head()"
   ]
  },
  {
   "cell_type": "markdown",
   "metadata": {},
   "source": [
    "## load vagas"
   ]
  },
  {
   "cell_type": "code",
   "execution_count": 5,
   "metadata": {},
   "outputs": [
    {
     "name": "stdout",
     "output_type": "stream",
     "text": [
      "(10000, 7)\n"
     ]
    },
    {
     "data": {
      "text/html": [
       "<div>\n",
       "<style scoped>\n",
       "    .dataframe tbody tr th:only-of-type {\n",
       "        vertical-align: middle;\n",
       "    }\n",
       "\n",
       "    .dataframe tbody tr th {\n",
       "        vertical-align: top;\n",
       "    }\n",
       "\n",
       "    .dataframe thead th {\n",
       "        text-align: right;\n",
       "    }\n",
       "</style>\n",
       "<table border=\"1\" class=\"dataframe\">\n",
       "  <thead>\n",
       "    <tr style=\"text-align: right;\">\n",
       "      <th></th>\n",
       "      <th>cidade</th>\n",
       "      <th>escolaridade</th>\n",
       "      <th>graduacao</th>\n",
       "      <th>id_empresa</th>\n",
       "      <th>industria</th>\n",
       "      <th>nome_empresa</th>\n",
       "      <th>posicao</th>\n",
       "    </tr>\n",
       "  </thead>\n",
       "  <tbody>\n",
       "    <tr>\n",
       "      <th>0</th>\n",
       "      <td>PIRACICABA</td>\n",
       "      <td>Médio Completo</td>\n",
       "      <td>Nenhum</td>\n",
       "      <td>cd717d64-1c29-4bfe-b074-005ab8034621</td>\n",
       "      <td>Produção</td>\n",
       "      <td>enhance B2B mindshare</td>\n",
       "      <td>641015-Tratorista agrícola</td>\n",
       "    </tr>\n",
       "    <tr>\n",
       "      <th>1</th>\n",
       "      <td>CAIEIRAS</td>\n",
       "      <td>Fundamental Completo</td>\n",
       "      <td>Nenhum</td>\n",
       "      <td>f71c2bd0-6f3f-4bd0-83b6-8402d65830c5</td>\n",
       "      <td>Petróleo</td>\n",
       "      <td>implement killer e-commerce</td>\n",
       "      <td>414105-Auxiliar de almoxarifado</td>\n",
       "    </tr>\n",
       "    <tr>\n",
       "      <th>2</th>\n",
       "      <td>PEDERNEIRAS</td>\n",
       "      <td>Fundamental Completo</td>\n",
       "      <td>Nenhum</td>\n",
       "      <td>d7034759-ba70-4f97-8bf9-7fd503339852</td>\n",
       "      <td>Fumo</td>\n",
       "      <td>e-enable cutting-edge e-markets</td>\n",
       "      <td>421105-ATENDENTE COMERCIAL</td>\n",
       "    </tr>\n",
       "    <tr>\n",
       "      <th>3</th>\n",
       "      <td>VALINHOS</td>\n",
       "      <td>Médio Completo</td>\n",
       "      <td>Nenhum</td>\n",
       "      <td>86ef07ac-4e84-4479-aa89-1d111a99240e</td>\n",
       "      <td>Financeiro</td>\n",
       "      <td>reinvent real-time convergence</td>\n",
       "      <td>411005-Auxiliares administrativos e de escritó...</td>\n",
       "    </tr>\n",
       "    <tr>\n",
       "      <th>4</th>\n",
       "      <td>DIADEMA</td>\n",
       "      <td>Médio Completo</td>\n",
       "      <td>Nenhum</td>\n",
       "      <td>8faea19c-6d81-49f6-8148-fb96e0b3c473</td>\n",
       "      <td>Comércio</td>\n",
       "      <td>benchmark killer networks</td>\n",
       "      <td>782305-Motorista de carro de passeio</td>\n",
       "    </tr>\n",
       "  </tbody>\n",
       "</table>\n",
       "</div>"
      ],
      "text/plain": [
       "        cidade          escolaridade graduacao  \\\n",
       "0   PIRACICABA        Médio Completo    Nenhum   \n",
       "1     CAIEIRAS  Fundamental Completo    Nenhum   \n",
       "2  PEDERNEIRAS  Fundamental Completo    Nenhum   \n",
       "3     VALINHOS        Médio Completo    Nenhum   \n",
       "4      DIADEMA        Médio Completo    Nenhum   \n",
       "\n",
       "                             id_empresa   industria  \\\n",
       "0  cd717d64-1c29-4bfe-b074-005ab8034621    Produção   \n",
       "1  f71c2bd0-6f3f-4bd0-83b6-8402d65830c5    Petróleo   \n",
       "2  d7034759-ba70-4f97-8bf9-7fd503339852        Fumo   \n",
       "3  86ef07ac-4e84-4479-aa89-1d111a99240e  Financeiro   \n",
       "4  8faea19c-6d81-49f6-8148-fb96e0b3c473    Comércio   \n",
       "\n",
       "                      nome_empresa  \\\n",
       "0            enhance B2B mindshare   \n",
       "1      implement killer e-commerce   \n",
       "2  e-enable cutting-edge e-markets   \n",
       "3   reinvent real-time convergence   \n",
       "4        benchmark killer networks   \n",
       "\n",
       "                                             posicao  \n",
       "0                         641015-Tratorista agrícola  \n",
       "1                    414105-Auxiliar de almoxarifado  \n",
       "2                        421105-ATENDENTE COMERCIAL   \n",
       "3  411005-Auxiliares administrativos e de escritó...  \n",
       "4               782305-Motorista de carro de passeio  "
      ]
     },
     "execution_count": 5,
     "metadata": {},
     "output_type": "execute_result"
    }
   ],
   "source": [
    "df_vagas = pd.read_csv(\"data/vagas_mock.csv\")\n",
    "df_vagas = df_vagas[:10000]\n",
    "print(df_vagas.shape)\n",
    "df_vagas.head()"
   ]
  },
  {
   "cell_type": "markdown",
   "metadata": {},
   "source": [
    "## Feature engineering\n",
    "automaticamente \"avalia\" uma posicao para um trabalhador"
   ]
  },
  {
   "cell_type": "code",
   "execution_count": 7,
   "metadata": {},
   "outputs": [
    {
     "data": {
      "application/vnd.jupyter.widget-view+json": {
       "model_id": "1a6b832e721f4828a1c29920c226f268",
       "version_major": 2,
       "version_minor": 0
      },
      "text/plain": [
       "HBox(children=(FloatProgress(value=0.0, max=30000.0), HTML(value='')))"
      ]
     },
     "metadata": {},
     "output_type": "display_data"
    },
    {
     "name": "stdout",
     "output_type": "stream",
     "text": [
      "521110-Vendedor de comércio varejista\n",
      "\n"
     ]
    },
    {
     "ename": "NameError",
     "evalue": "name 'joblist' is not defined",
     "output_type": "error",
     "traceback": [
      "\u001b[0;31m---------------------------------------------------------------------------\u001b[0m",
      "\u001b[0;31mNameError\u001b[0m                                 Traceback (most recent call last)",
      "\u001b[0;32m<ipython-input-7-688d1da28960>\u001b[0m in \u001b[0;36m<module>\u001b[0;34m\u001b[0m\n\u001b[1;32m      3\u001b[0m     \u001b[0mprint\u001b[0m\u001b[0;34m(\u001b[0m\u001b[0mrow\u001b[0m\u001b[0;34m[\u001b[0m\u001b[0;34m'PRETENSOES'\u001b[0m\u001b[0;34m]\u001b[0m\u001b[0;34m)\u001b[0m\u001b[0;34m\u001b[0m\u001b[0;34m\u001b[0m\u001b[0m\n\u001b[1;32m      4\u001b[0m     \u001b[0;32mfor\u001b[0m \u001b[0mindex_vaga\u001b[0m\u001b[0;34m,\u001b[0m \u001b[0mrow_vaga\u001b[0m \u001b[0;32min\u001b[0m \u001b[0mdf_vagas\u001b[0m\u001b[0;34m.\u001b[0m\u001b[0miterrows\u001b[0m\u001b[0;34m(\u001b[0m\u001b[0;34m)\u001b[0m\u001b[0;34m:\u001b[0m\u001b[0;34m\u001b[0m\u001b[0;34m\u001b[0m\u001b[0m\n\u001b[0;32m----> 5\u001b[0;31m         \u001b[0mjoblist\u001b[0m\u001b[0;34m.\u001b[0m\u001b[0mappend\u001b[0m\u001b[0;34m(\u001b[0m\u001b[0;34m)\u001b[0m\u001b[0;34m\u001b[0m\u001b[0;34m\u001b[0m\u001b[0m\n\u001b[0m",
      "\u001b[0;31mNameError\u001b[0m: name 'joblist' is not defined"
     ]
    }
   ],
   "source": [
    "job_list = []\n",
    "for index, row in tqdm(df_trabalhadores[:10].iterrows(), total=df_trabalhadores.shape[0]):\n",
    "    print(row['PRETENSOES'])\n",
    "    for index_vaga, row_vaga in df_vagas.iterrows():\n",
    "        joblist.append()"
   ]
  },
  {
   "cell_type": "code",
   "execution_count": null,
   "metadata": {},
   "outputs": [],
   "source": [
    "def get_rating(shared_list, id_trabalhador, escolaridade_trabalhador, graduacao_trabalhador, \n",
    "               cidade_trabalhador, escolaridade_vaga, graduacao_vaga, cidade_vaga, id_vaga):\n",
    "    points = 0\n",
    "    if escolaridade_trabalhador == escolaridade_vaga:\n",
    "        points += 1\n",
    "    if graduacao_trabalhador == graduacao_vaga:\n",
    "        points += 1\n",
    "    if cidade_trabalhador == cidade_vaga:\n",
    "        points += 1\n",
    "        \n",
    "    shared_list.append({'id_trabalhador': id_trabalhador, 'id_vaga':id_vaga, 'rating':rating})"
   ]
  },
  {
   "cell_type": "code",
   "execution_count": null,
   "metadata": {},
   "outputs": [],
   "source": []
  }
 ],
 "metadata": {
  "kernelspec": {
   "display_name": "Python 3",
   "language": "python",
   "name": "python3"
  },
  "language_info": {
   "codemirror_mode": {
    "name": "ipython",
    "version": 3
   },
   "file_extension": ".py",
   "mimetype": "text/x-python",
   "name": "python",
   "nbconvert_exporter": "python",
   "pygments_lexer": "ipython3",
   "version": "3.7.3"
  }
 },
 "nbformat": 4,
 "nbformat_minor": 2
}
