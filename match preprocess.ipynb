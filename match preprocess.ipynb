{
 "cells": [
  {
   "cell_type": "code",
   "execution_count": 1,
   "metadata": {},
   "outputs": [],
   "source": [
    "import pandas as pd\n",
    "from tqdm.notebook import tqdm\n",
    "from multiprocessing import Process, Manager, Pool\n",
    "import numpy as np"
   ]
  },
  {
   "cell_type": "markdown",
   "metadata": {},
   "source": [
    "### util method"
   ]
  },
  {
   "cell_type": "code",
   "execution_count": 2,
   "metadata": {},
   "outputs": [],
   "source": [
    "def get_rating(id_trabalhador, escolaridade_trabalhador, graduacao_trabalhador, \n",
    "               cidade_trabalhador, escolaridade_vaga, graduacao_vaga, cidade_vaga, id_vaga):\n",
    "    points = 0\n",
    "    if escolaridade_trabalhador == escolaridade_vaga:\n",
    "        points += 1\n",
    "    if graduacao_trabalhador != np.nan and graduacao_trabalhador == graduacao_vaga:\n",
    "        points += 1\n",
    "    if cidade_trabalhador == cidade_vaga:\n",
    "        points += 1\n",
    "    \n",
    "    return points\n",
    "    #shared_list.append({'id_trabalhador': id_trabalhador, 'id_vaga':id_vaga, 'rating':rating})"
   ]
  },
  {
   "cell_type": "markdown",
   "metadata": {},
   "source": [
    "## load trabalhadores"
   ]
  },
  {
   "cell_type": "code",
   "execution_count": 3,
   "metadata": {},
   "outputs": [
    {
     "name": "stderr",
     "output_type": "stream",
     "text": [
      "/home/chris/anaconda3/lib/python3.7/site-packages/IPython/core/interactiveshell.py:3049: DtypeWarning: Columns (3,4) have mixed types. Specify dtype option on import or set low_memory=False.\n",
      "  interactivity=interactivity, compiler=compiler, result=result)\n"
     ]
    }
   ],
   "source": [
    "df_trabalhadores = pd.read_csv(\"data/D_ETL_IMO_EXTRACAO_SINE_ABERTO_TRABALHADORES_SP.csv\", sep=\";\", encoding=\"iso8859-1\")"
   ]
  },
  {
   "cell_type": "code",
   "execution_count": 4,
   "metadata": {},
   "outputs": [],
   "source": [
    "df_trabalhadores.dropna(subset=['PRETENSOES'], inplace=True)\n",
    "df_trabalhadores[['PRETENSOES','LIXO']] = df_trabalhadores.PRETENSOES.str.split(\"(\",1,expand=True)"
   ]
  },
  {
   "cell_type": "code",
   "execution_count": 5,
   "metadata": {},
   "outputs": [
    {
     "name": "stdout",
     "output_type": "stream",
     "text": [
      "(7000, 22)\n"
     ]
    },
    {
     "data": {
      "text/html": [
       "<div>\n",
       "<style scoped>\n",
       "    .dataframe tbody tr th:only-of-type {\n",
       "        vertical-align: middle;\n",
       "    }\n",
       "\n",
       "    .dataframe tbody tr th {\n",
       "        vertical-align: top;\n",
       "    }\n",
       "\n",
       "    .dataframe thead th {\n",
       "        text-align: right;\n",
       "    }\n",
       "</style>\n",
       "<table border=\"1\" class=\"dataframe\">\n",
       "  <thead>\n",
       "    <tr style=\"text-align: right;\">\n",
       "      <th></th>\n",
       "      <th>NACIONALIDADE</th>\n",
       "      <th>DEFICIENCIAS</th>\n",
       "      <th>BAIRRO</th>\n",
       "      <th>CEP</th>\n",
       "      <th>CODIGO_MUNICIPIO_IBGE</th>\n",
       "      <th>NOME_MUNICIPIO</th>\n",
       "      <th>UF</th>\n",
       "      <th>ESCOLARIDADE</th>\n",
       "      <th>ESTUDANTE</th>\n",
       "      <th>CURSOS_PROFISSIONALIZANTES</th>\n",
       "      <th>...</th>\n",
       "      <th>IDIOMAS</th>\n",
       "      <th>HABILITACAO</th>\n",
       "      <th>VEICULOS</th>\n",
       "      <th>DISP_VIAJAR</th>\n",
       "      <th>DISP_DORMIR_EMP</th>\n",
       "      <th>DISP_AUSENTAR_DOMIC</th>\n",
       "      <th>PRETENSOES</th>\n",
       "      <th>MUNICIPIOS_INTERESSE</th>\n",
       "      <th>LIXO</th>\n",
       "      <th>id_trabalhador</th>\n",
       "    </tr>\n",
       "  </thead>\n",
       "  <tbody>\n",
       "    <tr>\n",
       "      <th>1268017</th>\n",
       "      <td>BRASILEIRA</td>\n",
       "      <td>NaN</td>\n",
       "      <td>VILA VELHA</td>\n",
       "      <td>1.88701e+07</td>\n",
       "      <td>351540</td>\n",
       "      <td>FARTURA</td>\n",
       "      <td>SP</td>\n",
       "      <td>Médio Completo</td>\n",
       "      <td>N</td>\n",
       "      <td>NaN</td>\n",
       "      <td>...</td>\n",
       "      <td>NaN</td>\n",
       "      <td>B</td>\n",
       "      <td>N</td>\n",
       "      <td>S</td>\n",
       "      <td>N</td>\n",
       "      <td>N</td>\n",
       "      <td>760305-ENCARREGADO DE CORTE NA CONFECCAO DO VE...</td>\n",
       "      <td>NaN</td>\n",
       "      <td>N,83,0,Comercial)|760310-Encarregado de costur...</td>\n",
       "      <td>1268017</td>\n",
       "    </tr>\n",
       "    <tr>\n",
       "      <th>1221773</th>\n",
       "      <td>BRASILEIRA</td>\n",
       "      <td>NaN</td>\n",
       "      <td>VILA TERESINHA</td>\n",
       "      <td>2.85306e+06</td>\n",
       "      <td>355030</td>\n",
       "      <td>SAO PAULO</td>\n",
       "      <td>SP</td>\n",
       "      <td>Fundamental Completo</td>\n",
       "      <td>N</td>\n",
       "      <td>curso cuidador de idosos - ases</td>\n",
       "      <td>...</td>\n",
       "      <td>NaN</td>\n",
       "      <td>Nenhum</td>\n",
       "      <td>N</td>\n",
       "      <td>N</td>\n",
       "      <td>N</td>\n",
       "      <td>N</td>\n",
       "      <td>354130-Promotor de vendas especializado</td>\n",
       "      <td>NaN</td>\n",
       "      <td>N,131,0,Indiferente)|516210-Cuidador de idosos...</td>\n",
       "      <td>1221773</td>\n",
       "    </tr>\n",
       "    <tr>\n",
       "      <th>2496794</th>\n",
       "      <td>BRASILEIRA</td>\n",
       "      <td>NaN</td>\n",
       "      <td>JARDIM SANTA INES II</td>\n",
       "      <td>1.22485e+07</td>\n",
       "      <td>354990</td>\n",
       "      <td>SAO JOSE DOS CAMPOS</td>\n",
       "      <td>SP</td>\n",
       "      <td>Médio Completo</td>\n",
       "      <td>N</td>\n",
       "      <td>NaN</td>\n",
       "      <td>...</td>\n",
       "      <td>NaN</td>\n",
       "      <td>Nenhum</td>\n",
       "      <td>N</td>\n",
       "      <td>N</td>\n",
       "      <td>N</td>\n",
       "      <td>N</td>\n",
       "      <td>731150-Montador de equipamentos eletrônicos</td>\n",
       "      <td>NaN</td>\n",
       "      <td>N,486,0,Indiferente)</td>\n",
       "      <td>2496794</td>\n",
       "    </tr>\n",
       "    <tr>\n",
       "      <th>93731</th>\n",
       "      <td>BRASILEIRA</td>\n",
       "      <td>Membros Inferiores</td>\n",
       "      <td>JARDIM RUSSO</td>\n",
       "      <td>5.20504e+06</td>\n",
       "      <td>355030</td>\n",
       "      <td>SAO PAULO</td>\n",
       "      <td>SP</td>\n",
       "      <td>Superior Incompleto</td>\n",
       "      <td>S</td>\n",
       "      <td>NaN</td>\n",
       "      <td>...</td>\n",
       "      <td>NaN</td>\n",
       "      <td>Nenhum</td>\n",
       "      <td>N</td>\n",
       "      <td>N</td>\n",
       "      <td>N</td>\n",
       "      <td>N</td>\n",
       "      <td>252305-Auxiliar administrativo de diretoria</td>\n",
       "      <td>NaN</td>\n",
       "      <td>N,0,0,Indiferente)|411005-Auxiliar de escritór...</td>\n",
       "      <td>93731</td>\n",
       "    </tr>\n",
       "    <tr>\n",
       "      <th>3141428</th>\n",
       "      <td>BRASILEIRA</td>\n",
       "      <td>NaN</td>\n",
       "      <td>PARQUE RESIDENCIAL ABILIO P</td>\n",
       "      <td>1.34832e+07</td>\n",
       "      <td>352690</td>\n",
       "      <td>LIMEIRA</td>\n",
       "      <td>SP</td>\n",
       "      <td>Médio Incompleto</td>\n",
       "      <td>N</td>\n",
       "      <td>NaN</td>\n",
       "      <td>...</td>\n",
       "      <td>NaN</td>\n",
       "      <td>Nenhum</td>\n",
       "      <td>N</td>\n",
       "      <td>S</td>\n",
       "      <td>N</td>\n",
       "      <td>N</td>\n",
       "      <td>413205-Atendente de agência</td>\n",
       "      <td>NaN</td>\n",
       "      <td>N,13,0,Indiferente)|421105-ATENDENTE COMERCIAL...</td>\n",
       "      <td>3141428</td>\n",
       "    </tr>\n",
       "  </tbody>\n",
       "</table>\n",
       "<p>5 rows × 22 columns</p>\n",
       "</div>"
      ],
      "text/plain": [
       "        NACIONALIDADE        DEFICIENCIAS                       BAIRRO  \\\n",
       "1268017    BRASILEIRA                 NaN                   VILA VELHA   \n",
       "1221773    BRASILEIRA                 NaN               VILA TERESINHA   \n",
       "2496794    BRASILEIRA                 NaN         JARDIM SANTA INES II   \n",
       "93731      BRASILEIRA  Membros Inferiores                 JARDIM RUSSO   \n",
       "3141428    BRASILEIRA                 NaN  PARQUE RESIDENCIAL ABILIO P   \n",
       "\n",
       "                 CEP CODIGO_MUNICIPIO_IBGE       NOME_MUNICIPIO  UF  \\\n",
       "1268017  1.88701e+07                351540              FARTURA  SP   \n",
       "1221773  2.85306e+06                355030            SAO PAULO  SP   \n",
       "2496794  1.22485e+07                354990  SAO JOSE DOS CAMPOS  SP   \n",
       "93731    5.20504e+06                355030            SAO PAULO  SP   \n",
       "3141428  1.34832e+07                352690              LIMEIRA  SP   \n",
       "\n",
       "                 ESCOLARIDADE ESTUDANTE       CURSOS_PROFISSIONALIZANTES  ...  \\\n",
       "1268017        Médio Completo         N                              NaN  ...   \n",
       "1221773  Fundamental Completo         N  curso cuidador de idosos - ases  ...   \n",
       "2496794        Médio Completo         N                              NaN  ...   \n",
       "93731     Superior Incompleto         S                              NaN  ...   \n",
       "3141428      Médio Incompleto         N                              NaN  ...   \n",
       "\n",
       "        IDIOMAS HABILITACAO VEICULOS DISP_VIAJAR DISP_DORMIR_EMP  \\\n",
       "1268017     NaN           B        N           S               N   \n",
       "1221773     NaN      Nenhum        N           N               N   \n",
       "2496794     NaN      Nenhum        N           N               N   \n",
       "93731       NaN      Nenhum        N           N               N   \n",
       "3141428     NaN      Nenhum        N           S               N   \n",
       "\n",
       "        DISP_AUSENTAR_DOMIC  \\\n",
       "1268017                   N   \n",
       "1221773                   N   \n",
       "2496794                   N   \n",
       "93731                     N   \n",
       "3141428                   N   \n",
       "\n",
       "                                                PRETENSOES  \\\n",
       "1268017  760305-ENCARREGADO DE CORTE NA CONFECCAO DO VE...   \n",
       "1221773            354130-Promotor de vendas especializado   \n",
       "2496794        731150-Montador de equipamentos eletrônicos   \n",
       "93731          252305-Auxiliar administrativo de diretoria   \n",
       "3141428                        413205-Atendente de agência   \n",
       "\n",
       "        MUNICIPIOS_INTERESSE  \\\n",
       "1268017                  NaN   \n",
       "1221773                  NaN   \n",
       "2496794                  NaN   \n",
       "93731                    NaN   \n",
       "3141428                  NaN   \n",
       "\n",
       "                                                      LIXO id_trabalhador  \n",
       "1268017  N,83,0,Comercial)|760310-Encarregado de costur...        1268017  \n",
       "1221773  N,131,0,Indiferente)|516210-Cuidador de idosos...        1221773  \n",
       "2496794                               N,486,0,Indiferente)        2496794  \n",
       "93731    N,0,0,Indiferente)|411005-Auxiliar de escritór...          93731  \n",
       "3141428  N,13,0,Indiferente)|421105-ATENDENTE COMERCIAL...        3141428  \n",
       "\n",
       "[5 rows x 22 columns]"
      ]
     },
     "execution_count": 5,
     "metadata": {},
     "output_type": "execute_result"
    }
   ],
   "source": [
    "#df_trabalhadores = df_trabalhadores[:30000]\n",
    "df_trabalhadores = df_trabalhadores.sample(7000)\n",
    "df_trabalhadores['id_trabalhador'] = df_trabalhadores.index\n",
    "print(df_trabalhadores.shape)\n",
    "df_trabalhadores.head()"
   ]
  },
  {
   "cell_type": "markdown",
   "metadata": {},
   "source": [
    "## load vagas"
   ]
  },
  {
   "cell_type": "code",
   "execution_count": 6,
   "metadata": {},
   "outputs": [
    {
     "name": "stdout",
     "output_type": "stream",
     "text": [
      "(3000, 7)\n"
     ]
    },
    {
     "data": {
      "text/html": [
       "<div>\n",
       "<style scoped>\n",
       "    .dataframe tbody tr th:only-of-type {\n",
       "        vertical-align: middle;\n",
       "    }\n",
       "\n",
       "    .dataframe tbody tr th {\n",
       "        vertical-align: top;\n",
       "    }\n",
       "\n",
       "    .dataframe thead th {\n",
       "        text-align: right;\n",
       "    }\n",
       "</style>\n",
       "<table border=\"1\" class=\"dataframe\">\n",
       "  <thead>\n",
       "    <tr style=\"text-align: right;\">\n",
       "      <th></th>\n",
       "      <th>cidade</th>\n",
       "      <th>escolaridade</th>\n",
       "      <th>graduacao</th>\n",
       "      <th>id_empresa</th>\n",
       "      <th>industria</th>\n",
       "      <th>nome_empresa</th>\n",
       "      <th>posicao</th>\n",
       "    </tr>\n",
       "  </thead>\n",
       "  <tbody>\n",
       "    <tr>\n",
       "      <th>37759</th>\n",
       "      <td>SANTANA DE PARNAIBA</td>\n",
       "      <td>Fundamental Completo</td>\n",
       "      <td>Nenhum</td>\n",
       "      <td>d93af0f9-a8ab-4715-b35e-5639112e620e</td>\n",
       "      <td>Minerais</td>\n",
       "      <td>synthesize leading-edge infrastructures</td>\n",
       "      <td>391205-Inspetor de qualidade</td>\n",
       "    </tr>\n",
       "    <tr>\n",
       "      <th>60638</th>\n",
       "      <td>FRANCISCO MORATO</td>\n",
       "      <td>Médio Completo</td>\n",
       "      <td>Nenhum</td>\n",
       "      <td>55fd4744-b20f-4c07-ad27-332f1ebb580c</td>\n",
       "      <td>Farmacêutico</td>\n",
       "      <td>maximize best-of-breed methodologies</td>\n",
       "      <td>514110-Manobrista</td>\n",
       "    </tr>\n",
       "    <tr>\n",
       "      <th>58548</th>\n",
       "      <td>PEDERNEIRAS</td>\n",
       "      <td>Médio Completo</td>\n",
       "      <td>Nenhum</td>\n",
       "      <td>b3cb53ef-36ad-4999-ba8a-d22cb9a0e33e</td>\n",
       "      <td>Arte e Cultura</td>\n",
       "      <td>incentivize next-generation deliverables</td>\n",
       "      <td>517410-Porteiro de edifícios</td>\n",
       "    </tr>\n",
       "    <tr>\n",
       "      <th>66196</th>\n",
       "      <td>SAO JOSE DO RIO PRETO</td>\n",
       "      <td>Médio Completo</td>\n",
       "      <td>Nenhum</td>\n",
       "      <td>696a1e3f-b335-451d-b51e-e1d32c823fc0</td>\n",
       "      <td>Minerais</td>\n",
       "      <td>incubate interactive users</td>\n",
       "      <td>513205-Cozinheiro geral</td>\n",
       "    </tr>\n",
       "    <tr>\n",
       "      <th>58000</th>\n",
       "      <td>SANTANA DE PARNAIBA</td>\n",
       "      <td>Médio Completo</td>\n",
       "      <td>Nenhum</td>\n",
       "      <td>362be614-4d3c-40db-a0be-67b742002b14</td>\n",
       "      <td>Limpeza</td>\n",
       "      <td>innovate 24/7 action-items</td>\n",
       "      <td>782310-Motorista de furgão ou veículo similar</td>\n",
       "    </tr>\n",
       "  </tbody>\n",
       "</table>\n",
       "</div>"
      ],
      "text/plain": [
       "                      cidade          escolaridade graduacao  \\\n",
       "37759    SANTANA DE PARNAIBA  Fundamental Completo    Nenhum   \n",
       "60638       FRANCISCO MORATO        Médio Completo    Nenhum   \n",
       "58548            PEDERNEIRAS        Médio Completo    Nenhum   \n",
       "66196  SAO JOSE DO RIO PRETO        Médio Completo    Nenhum   \n",
       "58000    SANTANA DE PARNAIBA        Médio Completo    Nenhum   \n",
       "\n",
       "                                 id_empresa       industria  \\\n",
       "37759  d93af0f9-a8ab-4715-b35e-5639112e620e        Minerais   \n",
       "60638  55fd4744-b20f-4c07-ad27-332f1ebb580c    Farmacêutico   \n",
       "58548  b3cb53ef-36ad-4999-ba8a-d22cb9a0e33e  Arte e Cultura   \n",
       "66196  696a1e3f-b335-451d-b51e-e1d32c823fc0        Minerais   \n",
       "58000  362be614-4d3c-40db-a0be-67b742002b14         Limpeza   \n",
       "\n",
       "                                   nome_empresa  \\\n",
       "37759   synthesize leading-edge infrastructures   \n",
       "60638      maximize best-of-breed methodologies   \n",
       "58548  incentivize next-generation deliverables   \n",
       "66196                incubate interactive users   \n",
       "58000                innovate 24/7 action-items   \n",
       "\n",
       "                                             posicao  \n",
       "37759                   391205-Inspetor de qualidade  \n",
       "60638                              514110-Manobrista  \n",
       "58548                   517410-Porteiro de edifícios  \n",
       "66196                        513205-Cozinheiro geral  \n",
       "58000  782310-Motorista de furgão ou veículo similar  "
      ]
     },
     "execution_count": 6,
     "metadata": {},
     "output_type": "execute_result"
    }
   ],
   "source": [
    "df_vagas = pd.read_csv(\"data/vagas_mock.csv\")\n",
    "#df_vagas = df_vagas[:10000]\n",
    "df_vagas = df_vagas.sample(3000)\n",
    "print(df_vagas.shape)\n",
    "df_vagas.head()"
   ]
  },
  {
   "cell_type": "markdown",
   "metadata": {},
   "source": [
    "## Feature engineering\n",
    "automaticamente \"avalia\" uma posicao para um trabalhador"
   ]
  },
  {
   "cell_type": "code",
   "execution_count": 7,
   "metadata": {},
   "outputs": [
    {
     "data": {
      "application/vnd.jupyter.widget-view+json": {
       "model_id": "ebcf2ca885f847f59301e549560f591b",
       "version_major": 2,
       "version_minor": 0
      },
      "text/plain": [
       "HBox(children=(FloatProgress(value=0.0, max=7000.0), HTML(value='')))"
      ]
     },
     "metadata": {},
     "output_type": "display_data"
    },
    {
     "name": "stdout",
     "output_type": "stream",
     "text": [
      "\n"
     ]
    }
   ],
   "source": [
    "rating_list = []\n",
    "for index, row in tqdm(df_trabalhadores.iterrows(), total=df_trabalhadores.shape[0]):\n",
    "    id_trabalhador = row['id_trabalhador']\n",
    "    escolaridade_trabalhador = row['ESCOLARIDADE']\n",
    "    graduacao_trabalhador = row['GRADUACOES']\n",
    "    cidade_trabalhador = row['NOME_MUNICIPIO']\n",
    "    \n",
    "    for index_vaga, row_vaga in df_vagas.iterrows():\n",
    "        escolaridade_vaga = row_vaga['escolaridade']\n",
    "        graduacao_vaga = row_vaga['graduacao']\n",
    "        cidade_vaga = row_vaga['cidade']\n",
    "        id_vaga = row_vaga['id_empresa']\n",
    "        \n",
    "        \n",
    "        rating = get_rating(id_trabalhador=id_trabalhador, escolaridade_trabalhador=escolaridade_trabalhador, graduacao_trabalhador=graduacao_trabalhador, \n",
    "               cidade_trabalhador=cidade_trabalhador, escolaridade_vaga=escolaridade_vaga, graduacao_vaga=graduacao_vaga, cidade_vaga=cidade_vaga, id_vaga=id_vaga)\n",
    "        rating_list.append({'id_trabalhador':id_trabalhador, 'id_posicao':id_vaga, 'rating':rating})"
   ]
  },
  {
   "cell_type": "code",
   "execution_count": 8,
   "metadata": {},
   "outputs": [],
   "source": [
    "del(df_trabalhadores)\n",
    "del(df_vagas)"
   ]
  },
  {
   "cell_type": "code",
   "execution_count": 9,
   "metadata": {},
   "outputs": [
    {
     "name": "stdout",
     "output_type": "stream",
     "text": [
      "(21000000, 3)\n"
     ]
    },
    {
     "data": {
      "text/html": [
       "<div>\n",
       "<style scoped>\n",
       "    .dataframe tbody tr th:only-of-type {\n",
       "        vertical-align: middle;\n",
       "    }\n",
       "\n",
       "    .dataframe tbody tr th {\n",
       "        vertical-align: top;\n",
       "    }\n",
       "\n",
       "    .dataframe thead th {\n",
       "        text-align: right;\n",
       "    }\n",
       "</style>\n",
       "<table border=\"1\" class=\"dataframe\">\n",
       "  <thead>\n",
       "    <tr style=\"text-align: right;\">\n",
       "      <th></th>\n",
       "      <th>id_posicao</th>\n",
       "      <th>id_trabalhador</th>\n",
       "      <th>rating</th>\n",
       "    </tr>\n",
       "  </thead>\n",
       "  <tbody>\n",
       "    <tr>\n",
       "      <th>0</th>\n",
       "      <td>d93af0f9-a8ab-4715-b35e-5639112e620e</td>\n",
       "      <td>1268017</td>\n",
       "      <td>0</td>\n",
       "    </tr>\n",
       "    <tr>\n",
       "      <th>1</th>\n",
       "      <td>55fd4744-b20f-4c07-ad27-332f1ebb580c</td>\n",
       "      <td>1268017</td>\n",
       "      <td>1</td>\n",
       "    </tr>\n",
       "    <tr>\n",
       "      <th>2</th>\n",
       "      <td>b3cb53ef-36ad-4999-ba8a-d22cb9a0e33e</td>\n",
       "      <td>1268017</td>\n",
       "      <td>1</td>\n",
       "    </tr>\n",
       "    <tr>\n",
       "      <th>3</th>\n",
       "      <td>696a1e3f-b335-451d-b51e-e1d32c823fc0</td>\n",
       "      <td>1268017</td>\n",
       "      <td>1</td>\n",
       "    </tr>\n",
       "    <tr>\n",
       "      <th>4</th>\n",
       "      <td>362be614-4d3c-40db-a0be-67b742002b14</td>\n",
       "      <td>1268017</td>\n",
       "      <td>1</td>\n",
       "    </tr>\n",
       "  </tbody>\n",
       "</table>\n",
       "</div>"
      ],
      "text/plain": [
       "                             id_posicao  id_trabalhador  rating\n",
       "0  d93af0f9-a8ab-4715-b35e-5639112e620e         1268017       0\n",
       "1  55fd4744-b20f-4c07-ad27-332f1ebb580c         1268017       1\n",
       "2  b3cb53ef-36ad-4999-ba8a-d22cb9a0e33e         1268017       1\n",
       "3  696a1e3f-b335-451d-b51e-e1d32c823fc0         1268017       1\n",
       "4  362be614-4d3c-40db-a0be-67b742002b14         1268017       1"
      ]
     },
     "execution_count": 9,
     "metadata": {},
     "output_type": "execute_result"
    }
   ],
   "source": [
    "df_match = pd.DataFrame(rating_list)\n",
    "print(df_match.shape)\n",
    "df_match.head()"
   ]
  },
  {
   "cell_type": "code",
   "execution_count": 10,
   "metadata": {},
   "outputs": [],
   "source": [
    "del(rating_list)"
   ]
  },
  {
   "cell_type": "code",
   "execution_count": 11,
   "metadata": {},
   "outputs": [],
   "source": [
    "df_match.rating.value_counts().plot.bar();"
   ]
  },
  {
   "cell_type": "code",
   "execution_count": 12,
   "metadata": {},
   "outputs": [
    {
     "data": {
      "text/plain": [
       "0    13533545\n",
       "1     7400962\n",
       "2       65487\n",
       "3           6\n",
       "Name: rating, dtype: int64"
      ]
     },
     "execution_count": 12,
     "metadata": {},
     "output_type": "execute_result"
    }
   ],
   "source": [
    "df_match.rating.value_counts()"
   ]
  },
  {
   "cell_type": "code",
   "execution_count": 13,
   "metadata": {},
   "outputs": [],
   "source": [
    "df_match.to_csv(\"data/matches2.csv\")"
   ]
  },
  {
   "cell_type": "code",
   "execution_count": null,
   "metadata": {},
   "outputs": [],
   "source": []
  }
 ],
 "metadata": {
  "kernelspec": {
   "display_name": "Python 3",
   "language": "python",
   "name": "python3"
  },
  "language_info": {
   "codemirror_mode": {
    "name": "ipython",
    "version": 3
   },
   "file_extension": ".py",
   "mimetype": "text/x-python",
   "name": "python",
   "nbconvert_exporter": "python",
   "pygments_lexer": "ipython3",
   "version": "3.7.3"
  }
 },
 "nbformat": 4,
 "nbformat_minor": 2
}
