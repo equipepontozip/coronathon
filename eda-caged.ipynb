{
 "cells": [
  {
   "cell_type": "code",
   "execution_count": 1,
   "metadata": {},
   "outputs": [],
   "source": [
    "import pandas as pd"
   ]
  },
  {
   "cell_type": "code",
   "execution_count": 2,
   "metadata": {},
   "outputs": [
    {
     "name": "stderr",
     "output_type": "stream",
     "text": [
      "/home/chris/anaconda3/lib/python3.7/site-packages/IPython/core/interactiveshell.py:3049: DtypeWarning: Columns (32,33,34,35,36,37,38,39) have mixed types. Specify dtype option on import or set low_memory=False.\n",
      "  interactivity=interactivity, compiler=compiler, result=result)\n"
     ]
    }
   ],
   "source": [
    "df_caged = pd.read_csv(\"data/CAGEDEST_102019.txt\", sep=';', encoding='iso8859-1')"
   ]
  },
  {
   "cell_type": "code",
   "execution_count": 3,
   "metadata": {},
   "outputs": [
    {
     "name": "stdout",
     "output_type": "stream",
     "text": [
      "(2659256, 42)\n"
     ]
    },
    {
     "data": {
      "text/html": [
       "<div>\n",
       "<style scoped>\n",
       "    .dataframe tbody tr th:only-of-type {\n",
       "        vertical-align: middle;\n",
       "    }\n",
       "\n",
       "    .dataframe tbody tr th {\n",
       "        vertical-align: top;\n",
       "    }\n",
       "\n",
       "    .dataframe thead th {\n",
       "        text-align: right;\n",
       "    }\n",
       "</style>\n",
       "<table border=\"1\" class=\"dataframe\">\n",
       "  <thead>\n",
       "    <tr style=\"text-align: right;\">\n",
       "      <th></th>\n",
       "      <th>Admitidos/Desligados</th>\n",
       "      <th>Competência Declarada</th>\n",
       "      <th>Município</th>\n",
       "      <th>Ano Declarado</th>\n",
       "      <th>CBO 2002 Ocupação</th>\n",
       "      <th>CNAE 1.0 Classe</th>\n",
       "      <th>CNAE 2.0 Classe</th>\n",
       "      <th>CNAE 2.0 Subclas</th>\n",
       "      <th>Faixa Empr Início Jan</th>\n",
       "      <th>Grau Instrução</th>\n",
       "      <th>...</th>\n",
       "      <th>Região Adm SP</th>\n",
       "      <th>Região Corede</th>\n",
       "      <th>Região Corede 04</th>\n",
       "      <th>Região Gov SP</th>\n",
       "      <th>Região Senac PR</th>\n",
       "      <th>Região Senai PR</th>\n",
       "      <th>Região Senai SP</th>\n",
       "      <th>Sub-Região Senai PR</th>\n",
       "      <th>Ind Trab Parcial</th>\n",
       "      <th>Ind Trab Intermitente</th>\n",
       "    </tr>\n",
       "  </thead>\n",
       "  <tbody>\n",
       "    <tr>\n",
       "      <th>0</th>\n",
       "      <td>1</td>\n",
       "      <td>201910</td>\n",
       "      <td>110140</td>\n",
       "      <td>2019</td>\n",
       "      <td>514325</td>\n",
       "      <td>1112</td>\n",
       "      <td>1113</td>\n",
       "      <td>111399</td>\n",
       "      <td>1</td>\n",
       "      <td>3</td>\n",
       "      <td>...</td>\n",
       "      <td>999</td>\n",
       "      <td>{ñ</td>\n",
       "      <td>99</td>\n",
       "      <td>999</td>\n",
       "      <td>99</td>\n",
       "      <td>{ñ</td>\n",
       "      <td>999</td>\n",
       "      <td>99</td>\n",
       "      <td>0</td>\n",
       "      <td>0</td>\n",
       "    </tr>\n",
       "    <tr>\n",
       "      <th>1</th>\n",
       "      <td>1</td>\n",
       "      <td>201910</td>\n",
       "      <td>110146</td>\n",
       "      <td>2019</td>\n",
       "      <td>641010</td>\n",
       "      <td>1155</td>\n",
       "      <td>1156</td>\n",
       "      <td>115600</td>\n",
       "      <td>1</td>\n",
       "      <td>7</td>\n",
       "      <td>...</td>\n",
       "      <td>999</td>\n",
       "      <td>{ñ</td>\n",
       "      <td>99</td>\n",
       "      <td>999</td>\n",
       "      <td>99</td>\n",
       "      <td>{ñ</td>\n",
       "      <td>999</td>\n",
       "      <td>99</td>\n",
       "      <td>0</td>\n",
       "      <td>0</td>\n",
       "    </tr>\n",
       "    <tr>\n",
       "      <th>2</th>\n",
       "      <td>1</td>\n",
       "      <td>201910</td>\n",
       "      <td>110146</td>\n",
       "      <td>2019</td>\n",
       "      <td>783225</td>\n",
       "      <td>1155</td>\n",
       "      <td>1156</td>\n",
       "      <td>115600</td>\n",
       "      <td>1</td>\n",
       "      <td>7</td>\n",
       "      <td>...</td>\n",
       "      <td>999</td>\n",
       "      <td>{ñ</td>\n",
       "      <td>99</td>\n",
       "      <td>999</td>\n",
       "      <td>99</td>\n",
       "      <td>{ñ</td>\n",
       "      <td>999</td>\n",
       "      <td>99</td>\n",
       "      <td>0</td>\n",
       "      <td>0</td>\n",
       "    </tr>\n",
       "    <tr>\n",
       "      <th>3</th>\n",
       "      <td>1</td>\n",
       "      <td>201910</td>\n",
       "      <td>110146</td>\n",
       "      <td>2019</td>\n",
       "      <td>141105</td>\n",
       "      <td>1155</td>\n",
       "      <td>1156</td>\n",
       "      <td>115600</td>\n",
       "      <td>1</td>\n",
       "      <td>9</td>\n",
       "      <td>...</td>\n",
       "      <td>999</td>\n",
       "      <td>{ñ</td>\n",
       "      <td>99</td>\n",
       "      <td>999</td>\n",
       "      <td>99</td>\n",
       "      <td>{ñ</td>\n",
       "      <td>999</td>\n",
       "      <td>99</td>\n",
       "      <td>0</td>\n",
       "      <td>0</td>\n",
       "    </tr>\n",
       "    <tr>\n",
       "      <th>4</th>\n",
       "      <td>1</td>\n",
       "      <td>201910</td>\n",
       "      <td>110146</td>\n",
       "      <td>2019</td>\n",
       "      <td>513205</td>\n",
       "      <td>1155</td>\n",
       "      <td>1156</td>\n",
       "      <td>115600</td>\n",
       "      <td>1</td>\n",
       "      <td>7</td>\n",
       "      <td>...</td>\n",
       "      <td>999</td>\n",
       "      <td>{ñ</td>\n",
       "      <td>99</td>\n",
       "      <td>999</td>\n",
       "      <td>99</td>\n",
       "      <td>{ñ</td>\n",
       "      <td>999</td>\n",
       "      <td>99</td>\n",
       "      <td>0</td>\n",
       "      <td>0</td>\n",
       "    </tr>\n",
       "  </tbody>\n",
       "</table>\n",
       "<p>5 rows × 42 columns</p>\n",
       "</div>"
      ],
      "text/plain": [
       "   Admitidos/Desligados  Competência Declarada  Município  Ano Declarado  \\\n",
       "0                     1                 201910     110140           2019   \n",
       "1                     1                 201910     110146           2019   \n",
       "2                     1                 201910     110146           2019   \n",
       "3                     1                 201910     110146           2019   \n",
       "4                     1                 201910     110146           2019   \n",
       "\n",
       "   CBO 2002 Ocupação  CNAE 1.0 Classe  CNAE 2.0 Classe  CNAE 2.0 Subclas  \\\n",
       "0             514325             1112             1113            111399   \n",
       "1             641010             1155             1156            115600   \n",
       "2             783225             1155             1156            115600   \n",
       "3             141105             1155             1156            115600   \n",
       "4             513205             1155             1156            115600   \n",
       "\n",
       "   Faixa Empr Início Jan  Grau Instrução  ...  Região Adm SP  Região Corede  \\\n",
       "0                      1               3  ...            999             {ñ   \n",
       "1                      1               7  ...            999             {ñ   \n",
       "2                      1               7  ...            999             {ñ   \n",
       "3                      1               9  ...            999             {ñ   \n",
       "4                      1               7  ...            999             {ñ   \n",
       "\n",
       "   Região Corede 04  Região Gov SP  Região Senac PR  Região Senai PR  \\\n",
       "0                99            999               99               {ñ   \n",
       "1                99            999               99               {ñ   \n",
       "2                99            999               99               {ñ   \n",
       "3                99            999               99               {ñ   \n",
       "4                99            999               99               {ñ   \n",
       "\n",
       "  Região Senai SP  Sub-Região Senai PR  Ind Trab Parcial Ind Trab Intermitente  \n",
       "0             999                   99                 0                     0  \n",
       "1             999                   99                 0                     0  \n",
       "2             999                   99                 0                     0  \n",
       "3             999                   99                 0                     0  \n",
       "4             999                   99                 0                     0  \n",
       "\n",
       "[5 rows x 42 columns]"
      ]
     },
     "execution_count": 3,
     "metadata": {},
     "output_type": "execute_result"
    }
   ],
   "source": [
    "print(df_caged.shape)\n",
    "df_caged.head()"
   ]
  },
  {
   "cell_type": "code",
   "execution_count": 4,
   "metadata": {},
   "outputs": [
    {
     "data": {
      "text/plain": [
       "Index(['Admitidos/Desligados', 'Competência Declarada', 'Município',\n",
       "       'Ano Declarado', 'CBO 2002 Ocupação', 'CNAE 1.0 Classe',\n",
       "       'CNAE 2.0 Classe', 'CNAE 2.0 Subclas', 'Faixa Empr Início Jan',\n",
       "       'Grau Instrução', 'Qtd Hora Contrat', 'IBGE Subsetor', 'Idade',\n",
       "       'Ind Aprendiz', 'Ind Portador Defic', 'Raça Cor', 'Salário Mensal',\n",
       "       'Saldo Mov', 'Sexo', 'Tempo Emprego', 'Tipo Estab', 'Tipo Defic',\n",
       "       'Tipo Mov Desagregado', 'UF', 'Bairros SP', 'Bairros Fortaleza',\n",
       "       'Bairros RJ', 'Distritos SP', 'Regiões Adm DF', 'Mesorregião',\n",
       "       'Microrregião', 'Região Adm RJ', 'Região Adm SP', 'Região Corede',\n",
       "       'Região Corede 04', 'Região Gov SP', 'Região Senac PR',\n",
       "       'Região Senai PR', 'Região Senai SP', 'Sub-Região Senai PR',\n",
       "       'Ind Trab Parcial', 'Ind Trab Intermitente'],\n",
       "      dtype='object')"
      ]
     },
     "execution_count": 4,
     "metadata": {},
     "output_type": "execute_result"
    }
   ],
   "source": [
    "df_caged.columns"
   ]
  },
  {
   "cell_type": "code",
   "execution_count": 7,
   "metadata": {},
   "outputs": [
    {
     "data": {
      "image/png": "[encoded data removed]",
      "text/plain": [
       "<Figure size 1440x720 with 1 Axes>"
      ]
     },
     "metadata": {
      "needs_background": "light"
     },
     "output_type": "display_data"
    }
   ],
   "source": [
    "df_caged['CNAE 2.0 Subclas'].value_counts()[:15].plot.bar(figsize=(20,10));"
   ]
  },
  {
   "cell_type": "code",
   "execution_count": 8,
   "metadata": {},
   "outputs": [
    {
     "data": {
      "image/png": "[encoded data removed]",
      "text/plain": [
       "<Figure size 1440x720 with 1 Axes>"
      ]
     },
     "metadata": {
      "needs_background": "light"
     },
     "output_type": "display_data"
    }
   ],
   "source": [
    "df_caged.UF.value_counts()[:15].plot.bar(figsize=(20,10));"
   ]
  },
  {
   "cell_type": "code",
   "execution_count": null,
   "metadata": {},
   "outputs": [],
   "source": []
  }
 ],
 "metadata": {
  "kernelspec": {
   "display_name": "Python 3",
   "language": "python",
   "name": "python3"
  },
  "language_info": {
   "codemirror_mode": {
    "name": "ipython",
    "version": 3
   },
   "file_extension": ".py",
   "mimetype": "text/x-python",
   "name": "python",
   "nbconvert_exporter": "python",
   "pygments_lexer": "ipython3",
   "version": "3.7.3"
  }
 },
 "nbformat": 4,
 "nbformat_minor": 2
}
