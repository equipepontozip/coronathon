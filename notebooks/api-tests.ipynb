{
 "cells": [
  {
   "cell_type": "code",
   "execution_count": 1,
   "metadata": {},
   "outputs": [],
   "source": [
    "import json\n",
    "import requests"
   ]
  },
  {
   "cell_type": "code",
   "execution_count": 2,
   "metadata": {},
   "outputs": [
    {
     "data": {
      "text/plain": [
       "{'id_trabalhador': 2829159}"
      ]
     },
     "execution_count": 2,
     "metadata": {},
     "output_type": "execute_result"
    }
   ],
   "source": [
    "request_dict = {}\n",
    "request_dict['id_trabalhador'] = 2829159\n",
    "request_dict"
   ]
  },
  {
   "cell_type": "code",
   "execution_count": 3,
   "metadata": {},
   "outputs": [],
   "source": [
    "server_url = 'http://127.0.0.1'"
   ]
  },
  {
   "cell_type": "code",
   "execution_count": 4,
   "metadata": {},
   "outputs": [],
   "source": [
    "r = requests.post(server_url + '/get_empresas', json=request_dict)"
   ]
  },
  {
   "cell_type": "code",
   "execution_count": 5,
   "metadata": {},
   "outputs": [
    {
     "name": "stdout",
     "output_type": "stream",
     "text": [
      "<Response [200]>\n",
      "[{'cidade': 'BARUERI', 'escolaridade': 'Médio Completo', 'graduacao': 'Nenhum', 'id_empresa': '298a06c1-b6ad-4b12-bd82-c215c7a7d207', 'industria': 'Móveis', 'nome_empresa': 'architect granular web services', 'posicao': '513505-Auxiliar nos serviços de alimentação'}, {'cidade': 'ITUPEVA', 'escolaridade': 'Médio Completo', 'graduacao': 'Nenhum', 'id_empresa': 'a703e4bf-ca5a-45d7-a987-3f2c68ce7e27', 'industria': 'Logística', 'nome_empresa': 'utilize viral e-commerce', 'posicao': '354145-Vendedor pracista'}, {'cidade': 'SERTAOZINHO', 'escolaridade': 'Médio Completo', 'graduacao': 'Nenhum', 'id_empresa': '1d5021a7-0970-425c-b7bc-37d3115fee35', 'industria': 'Segurança', 'nome_empresa': 'e-enable bleeding-edge e-services', 'posicao': '411005-Auxiliar de estoque'}, {'cidade': 'ARARAS', 'escolaridade': 'Médio Completo', 'graduacao': 'Nenhum', 'id_empresa': 'e167f5bd-1b1e-49b9-8bf0-0fb1c32b7ab1', 'industria': 'Metal Mecânico', 'nome_empresa': 'e-enable ubiquitous solutions', 'posicao': '514110-Manobrista'}, {'cidade': 'BEBEDOURO', 'escolaridade': 'Médio Completo', 'graduacao': 'Nenhum', 'id_empresa': '2c3c074e-2ce7-435e-b637-af09685762a6', 'industria': 'Papel', 'nome_empresa': 'synergize intuitive partnerships', 'posicao': '313220-Técnico em manutenção de equipamentos de informática'}, {'cidade': 'SERRANA', 'escolaridade': 'Médio Completo', 'graduacao': 'Nenhum', 'id_empresa': 'c956d180-5215-4dd0-9c4c-8ebea6ba5ceb', 'industria': 'Social', 'nome_empresa': 'orchestrate value-added mindshare', 'posicao': '411005-Auxiliar administrativo'}, {'cidade': 'SUZANO', 'escolaridade': 'Médio Completo', 'graduacao': 'Nenhum', 'id_empresa': '52d837eb-eb79-4b72-be1b-c3e40548d3bd', 'industria': 'Metalurgia', 'nome_empresa': 'transition real-time e-business', 'posicao': '414105-Estoquista'}, {'cidade': 'FERRAZ DE VASCONCELOS', 'escolaridade': 'Médio Completo', 'graduacao': 'Nenhum', 'id_empresa': '84434e29-1f19-484e-a486-8618fc8899c6', 'industria': 'Esporte', 'nome_empresa': 'unleash robust partnerships', 'posicao': '421105-ATENDENTE COMERCIAL '}, {'cidade': 'SAO JOSE DO RIO PRETO', 'escolaridade': 'Médio Completo', 'graduacao': 'Nenhum', 'id_empresa': '696a1e3f-b335-451d-b51e-e1d32c823fc0', 'industria': 'Minerais', 'nome_empresa': 'incubate interactive users', 'posicao': '513205-Cozinheiro geral'}, {'cidade': 'CUBATAO', 'escolaridade': 'Médio Completo', 'graduacao': 'Nenhum', 'id_empresa': 'b370cf59-bd13-4d62-b6fc-70b19f82c6f6', 'industria': 'Papel', 'nome_empresa': 'enhance scalable info-mediaries', 'posicao': '354125-Assistente de vendas'}]\n"
     ]
    }
   ],
   "source": [
    "print(r)\n",
    "print(json.loads(r.text))"
   ]
  },
  {
   "cell_type": "code",
   "execution_count": null,
   "metadata": {},
   "outputs": [],
   "source": []
  },
  {
   "cell_type": "code",
   "execution_count": 6,
   "metadata": {},
   "outputs": [
    {
     "data": {
      "text/plain": [
       "{'id_posicao': '8420aae7-7128-4120-b915-249587933cd2'}"
      ]
     },
     "execution_count": 6,
     "metadata": {},
     "output_type": "execute_result"
    }
   ],
   "source": [
    "request_dict = {}\n",
    "request_dict['id_posicao'] = '8420aae7-7128-4120-b915-249587933cd2'\n",
    "request_dict"
   ]
  },
  {
   "cell_type": "code",
   "execution_count": 7,
   "metadata": {},
   "outputs": [],
   "source": [
    "r = requests.post(server_url + '/get_trabalhadores', json=request_dict)"
   ]
  },
  {
   "cell_type": "code",
   "execution_count": 8,
   "metadata": {},
   "outputs": [
    {
     "name": "stdout",
     "output_type": "stream",
     "text": [
      "<Response [200]>\n",
      "[{'NACIONALIDADE': 'BRASILEIRA', 'DEFICIENCIAS': nan, 'BAIRRO': nan, 'CEP': 4431030.0, 'CODIGO_MUNICIPIO_IBGE': 355030, 'NOME_MUNICIPIO': 'SAO PAULO', 'UF': 'SP', 'ESCOLARIDADE': 'Médio Completo', 'ESTUDANTE': 'N', 'CURSOS_PROFISSIONALIZANTES': nan, 'GRADUACOES': nan, 'POS_GRADUACOES': nan, 'IDIOMAS': nan, 'HABILITACAO': 'Nenhum', 'VEICULOS': 'N', 'DISP_VIAJAR': 'N', 'DISP_DORMIR_EMP': 'N', 'DISP_AUSENTAR_DOMIC': 'N', 'PRETENSOES': '514325-Trabalhador da manutenção de edificações(N,38,0,Indiferente)|515305-Educador social(N,18,0,Indiferente)', 'MUNICIPIOS_INTERESSE': nan, 'id': 188840}, {'NACIONALIDADE': 'BRASILEIRA', 'DEFICIENCIAS': nan, 'BAIRRO': 'JARDIM BELA VISTA', 'CEP': 13077006.0, 'CODIGO_MUNICIPIO_IBGE': 350950, 'NOME_MUNICIPIO': 'CAMPINAS', 'UF': 'SP', 'ESCOLARIDADE': 'Médio Completo', 'ESTUDANTE': 'N', 'CURSOS_PROFISSIONALIZANTES': 'cursando radialista e operador de camera senac', 'GRADUACOES': nan, 'POS_GRADUACOES': nan, 'IDIOMAS': nan, 'HABILITACAO': 'Nenhum', 'VEICULOS': 'N', 'DISP_VIAJAR': 'N', 'DISP_DORMIR_EMP': 'N', 'DISP_AUSENTAR_DOMIC': 'N', 'PRETENSOES': '411010-Assistente administrativo(N,5,0,Indiferente)|513505-Ajudante de cozinha(N,0,0,Indiferente)|514310-Auxiliar de manutenção predial(N,82,0,Indiferente)|521110-Operador de vendas (lojas)(N,5,0,Tarde)|521125-Repositor de mercadorias(N,5,0,Indiferente)|521140-Balconista(N,5,0,Indiferente)', 'MUNICIPIOS_INTERESSE': nan, 'id': 315304}, {'NACIONALIDADE': 'BRASILEIRA', 'DEFICIENCIAS': nan, 'BAIRRO': nan, 'CEP': 15056750.0, 'CODIGO_MUNICIPIO_IBGE': 354980, 'NOME_MUNICIPIO': 'SAO JOSE DO RIO PRETO', 'UF': 'SP', 'ESCOLARIDADE': 'Médio Completo', 'ESTUDANTE': 'N', 'CURSOS_PROFISSIONALIZANTES': nan, 'GRADUACOES': nan, 'POS_GRADUACOES': nan, 'IDIOMAS': nan, 'HABILITACAO': 'AB', 'VEICULOS': 'N', 'DISP_VIAJAR': 'S', 'DISP_DORMIR_EMP': 'S', 'DISP_AUSENTAR_DOMIC': 'S', 'PRETENSOES': '411005-Auxiliar administrativo(N,32,12,Comercial)|513405-Garçom(N,6,12,Indiferente)', 'MUNICIPIOS_INTERESSE': nan, 'id': 485992}, {'NACIONALIDADE': 'BRASILEIRA', 'DEFICIENCIAS': nan, 'BAIRRO': nan, 'CEP': 12324100.0, 'CODIGO_MUNICIPIO_IBGE': 352440, 'NOME_MUNICIPIO': 'JACAREI', 'UF': 'SP', 'ESCOLARIDADE': 'Médio Completo', 'ESTUDANTE': 'N', 'CURSOS_PROFISSIONALIZANTES': nan, 'GRADUACOES': nan, 'POS_GRADUACOES': nan, 'IDIOMAS': nan, 'HABILITACAO': 'Nenhum', 'VEICULOS': 'N', 'DISP_VIAJAR': 'N', 'DISP_DORMIR_EMP': 'N', 'DISP_AUSENTAR_DOMIC': 'N', 'PRETENSOES': '313205-Técnico de manutenção eletrônica(N,25,0,Indiferente)|314410-Técnico em manutenção de máquinas(N,145,0,Indiferente)', 'MUNICIPIOS_INTERESSE': nan, 'id': 1113309}, {'NACIONALIDADE': 'BRASILEIRA', 'DEFICIENCIAS': nan, 'BAIRRO': 'JARDIM PAULISTA', 'CEP': 6444000.0, 'CODIGO_MUNICIPIO_IBGE': 350570, 'NOME_MUNICIPIO': 'BARUERI', 'UF': 'SP', 'ESCOLARIDADE': 'Médio Completo', 'ESTUDANTE': 'N', 'CURSOS_PROFISSIONALIZANTES': nan, 'GRADUACOES': nan, 'POS_GRADUACOES': nan, 'IDIOMAS': nan, 'HABILITACAO': 'Nenhum', 'VEICULOS': 'N', 'DISP_VIAJAR': 'N', 'DISP_DORMIR_EMP': 'N', 'DISP_AUSENTAR_DOMIC': 'N', 'PRETENSOES': '414135-Auxiliar de expedição(N,122,0,Indiferente)|517420-Vigia(N,13,12,Indiferente)|783225-Ajudante de carga e descarga de mercadoria(N,0,0,Indiferente)|784205-Auxiliar de linha de produção(N,0,12,Indiferente)|862150-Operador de máquinas fixas, em geral(N,97,0,Indiferente)', 'MUNICIPIOS_INTERESSE': '350570|350570', 'id': 1224869}, {'NACIONALIDADE': 'BRASILEIRA', 'DEFICIENCIAS': nan, 'BAIRRO': 'JARDIM HENRIQUETA', 'CEP': 6764290, 'CODIGO_MUNICIPIO_IBGE': 355280, 'NOME_MUNICIPIO': 'TABOAO DA SERRA', 'UF': 'SP', 'ESCOLARIDADE': 'Médio Completo', 'ESTUDANTE': 'N', 'CURSOS_PROFISSIONALIZANTES': nan, 'GRADUACOES': nan, 'POS_GRADUACOES': nan, 'IDIOMAS': nan, 'HABILITACAO': 'Nenhum', 'VEICULOS': 'N', 'DISP_VIAJAR': 'N', 'DISP_DORMIR_EMP': 'N', 'DISP_AUSENTAR_DOMIC': 'N', 'PRETENSOES': '521110-Vendedor de comércio varejista(N,59,0,Indiferente)', 'MUNICIPIOS_INTERESSE': nan, 'id': 1859186}, {'NACIONALIDADE': 'BRASILEIRA', 'DEFICIENCIAS': nan, 'BAIRRO': 'JARDIM NOSSA SENHORA DO AMP', 'CEP': 13482280.0, 'CODIGO_MUNICIPIO_IBGE': 352690, 'NOME_MUNICIPIO': 'LIMEIRA', 'UF': 'SP', 'ESCOLARIDADE': 'Médio Completo', 'ESTUDANTE': 'N', 'CURSOS_PROFISSIONALIZANTES': nan, 'GRADUACOES': nan, 'POS_GRADUACOES': nan, 'IDIOMAS': nan, 'HABILITACAO': 'AB', 'VEICULOS': 'N', 'DISP_VIAJAR': 'N', 'DISP_DORMIR_EMP': 'N', 'DISP_AUSENTAR_DOMIC': 'N', 'PRETENSOES': '322205-Técnico de enfermagem(N,22,0,Indiferente)|324205-Técnico em patologia clínica(N,26,0,Indiferente)', 'MUNICIPIOS_INTERESSE': nan, 'id': 1936791}, {'NACIONALIDADE': 'BRASILEIRA', 'DEFICIENCIAS': nan, 'BAIRRO': 'ANITA GARIBALDI', 'CEP': 7179825, 'CODIGO_MUNICIPIO_IBGE': 351880, 'NOME_MUNICIPIO': 'GUARULHOS', 'UF': 'SP', 'ESCOLARIDADE': 'Médio Completo', 'ESTUDANTE': 'N', 'CURSOS_PROFISSIONALIZANTES': 'logistica', 'GRADUACOES': nan, 'POS_GRADUACOES': nan, 'IDIOMAS': nan, 'HABILITACAO': 'Nenhum', 'VEICULOS': 'N', 'DISP_VIAJAR': 'N', 'DISP_DORMIR_EMP': 'N', 'DISP_AUSENTAR_DOMIC': 'N', 'PRETENSOES': '414105-Almoxarife(N,0,0,Comercial)|414135-Auxiliar de expedição(N,0,0,Indiferente)|414140-Auxiliar de logistica(N,0,0,Comercial)|783205-Auxiliar de serviços no aeroporto(N,0,0,Comercial)|783210-Carregador (armazém)(N,7,0,Indiferente)|783225-Ajudante de carga e descarga de mercadoria(N,0,0,Comercial)', 'MUNICIPIOS_INTERESSE': nan, 'id': 2066272}, {'NACIONALIDADE': 'BRASILEIRA', 'DEFICIENCIAS': nan, 'BAIRRO': 'VILA SITIO DOS MORROS', 'CEP': 7135760, 'CODIGO_MUNICIPIO_IBGE': 351880, 'NOME_MUNICIPIO': 'GUARULHOS', 'UF': 'SP', 'ESCOLARIDADE': 'Médio Completo', 'ESTUDANTE': 'N', 'CURSOS_PROFISSIONALIZANTES': 'informatica basica', 'GRADUACOES': nan, 'POS_GRADUACOES': nan, 'IDIOMAS': nan, 'HABILITACAO': 'Nenhum', 'VEICULOS': 'N', 'DISP_VIAJAR': 'N', 'DISP_DORMIR_EMP': 'N', 'DISP_AUSENTAR_DOMIC': 'N', 'PRETENSOES': '521125-Repositor de mercadorias(N,0,0,Indiferente)|783215-Carregador (veículos de transportes terrestres)(N,51,0,Indiferente)|783225-Ajudante de carga e descarga de mercadoria(N,9,0,Indiferente)|784205-Auxiliar de linha de produção(N,0,0,Indiferente)', 'MUNICIPIOS_INTERESSE': nan, 'id': 3019002}, {'NACIONALIDADE': 'BRASILEIRA', 'DEFICIENCIAS': nan, 'BAIRRO': nan, 'CEP': 8557030, 'CODIGO_MUNICIPIO_IBGE': 353980, 'NOME_MUNICIPIO': 'POA', 'UF': 'SP', 'ESCOLARIDADE': 'Médio Completo', 'ESTUDANTE': 'N', 'CURSOS_PROFISSIONALIZANTES': nan, 'GRADUACOES': nan, 'POS_GRADUACOES': nan, 'IDIOMAS': nan, 'HABILITACAO': 'Nenhum', 'VEICULOS': 'N', 'DISP_VIAJAR': 'N', 'DISP_DORMIR_EMP': 'N', 'DISP_AUSENTAR_DOMIC': 'N', 'PRETENSOES': '513505-Auxiliar nos serviços de alimentação(N,32,0,Indiferente)|521125-Arrumador de prateleiras - em supermercados(N,0,0,Indiferente)|521130-ATENDENTE DE FARMACIA - BALCONISTA(N,0,0,Indiferente)', 'MUNICIPIOS_INTERESSE': nan, 'id': 3232129}]\n"
     ]
    }
   ],
   "source": [
    "print(r)\n",
    "print(json.loads(r.text))"
   ]
  },
  {
   "cell_type": "code",
   "execution_count": null,
   "metadata": {},
   "outputs": [],
   "source": []
  }
 ],
 "metadata": {
  "kernelspec": {
   "display_name": "Python 3",
   "language": "python",
   "name": "python3"
  },
  "language_info": {
   "codemirror_mode": {
    "name": "ipython",
    "version": 3
   },
   "file_extension": ".py",
   "mimetype": "text/x-python",
   "name": "python",
   "nbconvert_exporter": "python",
   "pygments_lexer": "ipython3",
   "version": "3.7.3"
  }
 },
 "nbformat": 4,
 "nbformat_minor": 2
}
