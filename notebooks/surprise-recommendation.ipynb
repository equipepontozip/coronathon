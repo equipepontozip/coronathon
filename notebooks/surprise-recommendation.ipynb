{
 "cells": [
  {
   "cell_type": "code",
   "execution_count": 26,
   "metadata": {},
   "outputs": [],
   "source": [
    "import pandas as pd\n",
    "from surprise import Reader, Dataset, accuracy\n",
    "from surprise import SVD, SVDpp, SlopeOne, NMF, NormalPredictor\n",
    "from surprise import KNNBaseline, KNNBasic, KNNWithMeans, KNNWithZScore, BaselineOnly, CoClustering\n",
    "from surprise.model_selection import cross_validate\n",
    "from tqdm.notebook import tqdm\n",
    "from surprise.model_selection import train_test_split\n",
    "from surprise import dump"
   ]
  },
  {
   "cell_type": "markdown",
   "metadata": {},
   "source": [
    "## Carrega dados dos matches\n",
    "Desenvolvidos no notebook match preprocess.ipynb"
   ]
  },
  {
   "cell_type": "code",
   "execution_count": 2,
   "metadata": {},
   "outputs": [],
   "source": [
    "df_rating = pd.read_csv(\"../data/matches2.csv\")"
   ]
  },
  {
   "cell_type": "code",
   "execution_count": 3,
   "metadata": {},
   "outputs": [
    {
     "name": "stdout",
     "output_type": "stream",
     "text": [
      "(21000000, 3)\n"
     ]
    },
    {
     "data": {
      "text/html": [
       "<div>\n",
       "<style scoped>\n",
       "    .dataframe tbody tr th:only-of-type {\n",
       "        vertical-align: middle;\n",
       "    }\n",
       "\n",
       "    .dataframe tbody tr th {\n",
       "        vertical-align: top;\n",
       "    }\n",
       "\n",
       "    .dataframe thead th {\n",
       "        text-align: right;\n",
       "    }\n",
       "</style>\n",
       "<table border=\"1\" class=\"dataframe\">\n",
       "  <thead>\n",
       "    <tr style=\"text-align: right;\">\n",
       "      <th></th>\n",
       "      <th>id_posicao</th>\n",
       "      <th>id_trabalhador</th>\n",
       "      <th>rating</th>\n",
       "    </tr>\n",
       "  </thead>\n",
       "  <tbody>\n",
       "    <tr>\n",
       "      <th>0</th>\n",
       "      <td>d93af0f9-a8ab-4715-b35e-5639112e620e</td>\n",
       "      <td>1268017</td>\n",
       "      <td>0</td>\n",
       "    </tr>\n",
       "    <tr>\n",
       "      <th>1</th>\n",
       "      <td>55fd4744-b20f-4c07-ad27-332f1ebb580c</td>\n",
       "      <td>1268017</td>\n",
       "      <td>1</td>\n",
       "    </tr>\n",
       "    <tr>\n",
       "      <th>2</th>\n",
       "      <td>b3cb53ef-36ad-4999-ba8a-d22cb9a0e33e</td>\n",
       "      <td>1268017</td>\n",
       "      <td>1</td>\n",
       "    </tr>\n",
       "    <tr>\n",
       "      <th>3</th>\n",
       "      <td>696a1e3f-b335-451d-b51e-e1d32c823fc0</td>\n",
       "      <td>1268017</td>\n",
       "      <td>1</td>\n",
       "    </tr>\n",
       "    <tr>\n",
       "      <th>4</th>\n",
       "      <td>362be614-4d3c-40db-a0be-67b742002b14</td>\n",
       "      <td>1268017</td>\n",
       "      <td>1</td>\n",
       "    </tr>\n",
       "  </tbody>\n",
       "</table>\n",
       "</div>"
      ],
      "text/plain": [
       "                             id_posicao  id_trabalhador  rating\n",
       "0  d93af0f9-a8ab-4715-b35e-5639112e620e         1268017       0\n",
       "1  55fd4744-b20f-4c07-ad27-332f1ebb580c         1268017       1\n",
       "2  b3cb53ef-36ad-4999-ba8a-d22cb9a0e33e         1268017       1\n",
       "3  696a1e3f-b335-451d-b51e-e1d32c823fc0         1268017       1\n",
       "4  362be614-4d3c-40db-a0be-67b742002b14         1268017       1"
      ]
     },
     "execution_count": 3,
     "metadata": {},
     "output_type": "execute_result"
    }
   ],
   "source": [
    "df_rating.drop(columns=['Unnamed: 0'], inplace=True)\n",
    "print(df_rating.shape)\n",
    "df_rating.head()"
   ]
  },
  {
   "cell_type": "markdown",
   "metadata": {},
   "source": [
    "### Distribuição das notas de associação entre os trabalhadores e as posições"
   ]
  },
  {
   "cell_type": "code",
   "execution_count": 4,
   "metadata": {},
   "outputs": [],
   "source": [
    "df_rating.rating.value_counts().plot.bar();"
   ]
  },
  {
   "cell_type": "code",
   "execution_count": 5,
   "metadata": {},
   "outputs": [],
   "source": [
    "#df_rating[df_rating['rating']==0].shape\n",
    "df_rating = df_rating.sample(2000000)"
   ]
  },
  {
   "cell_type": "code",
   "execution_count": 6,
   "metadata": {},
   "outputs": [],
   "source": [
    "reader = Reader(rating_scale=(0, 3))\n",
    "data = Dataset.load_from_df(df_rating[['id_trabalhador','id_posicao','rating']], reader)\n"
   ]
  },
  {
   "cell_type": "code",
   "execution_count": 7,
   "metadata": {},
   "outputs": [],
   "source": [
    "# del(df_rating)"
   ]
  },
  {
   "cell_type": "markdown",
   "metadata": {},
   "source": [
    "## Avalia alguns modelos"
   ]
  },
  {
   "cell_type": "code",
   "execution_count": 9,
   "metadata": {},
   "outputs": [
    {
     "data": {
      "application/vnd.jupyter.widget-view+json": {
       "model_id": "3f08a9331b2441af9b5353d50c95b639",
       "version_major": 2,
       "version_minor": 0
      },
      "text/plain": [
       "HBox(children=(FloatProgress(value=0.0, max=4.0), HTML(value='')))"
      ]
     },
     "metadata": {},
     "output_type": "display_data"
    },
    {
     "name": "stdout",
     "output_type": "stream",
     "text": [
      "Computing the msd similarity matrix...\n",
      "Done computing similarity matrix.\n",
      "Computing the msd similarity matrix...\n",
      "Done computing similarity matrix.\n",
      "Computing the msd similarity matrix...\n",
      "Done computing similarity matrix.\n",
      "\n"
     ]
    },
    {
     "data": {
      "text/html": [
       "<div>\n",
       "<style scoped>\n",
       "    .dataframe tbody tr th:only-of-type {\n",
       "        vertical-align: middle;\n",
       "    }\n",
       "\n",
       "    .dataframe tbody tr th {\n",
       "        vertical-align: top;\n",
       "    }\n",
       "\n",
       "    .dataframe thead th {\n",
       "        text-align: right;\n",
       "    }\n",
       "</style>\n",
       "<table border=\"1\" class=\"dataframe\">\n",
       "  <thead>\n",
       "    <tr style=\"text-align: right;\">\n",
       "      <th></th>\n",
       "      <th>test_rmse</th>\n",
       "      <th>fit_time</th>\n",
       "      <th>test_time</th>\n",
       "    </tr>\n",
       "    <tr>\n",
       "      <th>Algorithm</th>\n",
       "      <th></th>\n",
       "      <th></th>\n",
       "      <th></th>\n",
       "    </tr>\n",
       "  </thead>\n",
       "  <tbody>\n",
       "    <tr>\n",
       "      <th>KNNBasic</th>\n",
       "      <td>0.114385</td>\n",
       "      <td>13.653772</td>\n",
       "      <td>127.607379</td>\n",
       "    </tr>\n",
       "    <tr>\n",
       "      <th>CoClustering</th>\n",
       "      <td>0.135676</td>\n",
       "      <td>36.671393</td>\n",
       "      <td>7.835327</td>\n",
       "    </tr>\n",
       "    <tr>\n",
       "      <th>SVD</th>\n",
       "      <td>0.140370</td>\n",
       "      <td>56.657467</td>\n",
       "      <td>6.466326</td>\n",
       "    </tr>\n",
       "    <tr>\n",
       "      <th>NormalPredictor</th>\n",
       "      <td>0.627388</td>\n",
       "      <td>2.598963</td>\n",
       "      <td>6.717974</td>\n",
       "    </tr>\n",
       "  </tbody>\n",
       "</table>\n",
       "</div>"
      ],
      "text/plain": [
       "                 test_rmse   fit_time   test_time\n",
       "Algorithm                                        \n",
       "KNNBasic          0.114385  13.653772  127.607379\n",
       "CoClustering      0.135676  36.671393    7.835327\n",
       "SVD               0.140370  56.657467    6.466326\n",
       "NormalPredictor   0.627388   2.598963    6.717974"
      ]
     },
     "execution_count": 9,
     "metadata": {},
     "output_type": "execute_result"
    }
   ],
   "source": [
    "list_models = [SVD(), NormalPredictor(), KNNBasic(), CoClustering()]\n",
    "\n",
    "benchmark = []\n",
    "# Iterate over all algorithms\n",
    "\n",
    "for algorithm in tqdm(list_models, total=len(list_models)):\n",
    "    # Perform cross validation\n",
    "    results = cross_validate(algorithm, data, measures=['RMSE'], cv=3, verbose=False)\n",
    "    \n",
    "    # Get results & append algorithm name\n",
    "    tmp = pd.DataFrame.from_dict(results).mean(axis=0)\n",
    "    tmp = tmp.append(pd.Series([str(algorithm).split(' ')[0].split('.')[-1]], index=['Algorithm']))\n",
    "    benchmark.append(tmp)\n",
    "    \n",
    "pd.DataFrame(benchmark).set_index('Algorithm').sort_values('test_rmse') "
   ]
  },
  {
   "cell_type": "markdown",
   "metadata": {},
   "source": [
    "## Escolhe o modelo com melhor desempenho"
   ]
  },
  {
   "cell_type": "code",
   "execution_count": 8,
   "metadata": {},
   "outputs": [],
   "source": [
    "trainset, testset = train_test_split(data, test_size=.25)"
   ]
  },
  {
   "cell_type": "code",
   "execution_count": 9,
   "metadata": {},
   "outputs": [
    {
     "name": "stdout",
     "output_type": "stream",
     "text": [
      "Computing the msd similarity matrix...\n",
      "Done computing similarity matrix.\n"
     ]
    }
   ],
   "source": [
    "algo = KNNBasic()\n",
    "algo.fit(trainset)\n",
    "predictions = algo.test(testset)"
   ]
  },
  {
   "cell_type": "code",
   "execution_count": 10,
   "metadata": {},
   "outputs": [
    {
     "name": "stdout",
     "output_type": "stream",
     "text": [
      "RMSE: 0.1010\n"
     ]
    },
    {
     "data": {
      "text/plain": [
       "0.10103044453344062"
      ]
     },
     "execution_count": 10,
     "metadata": {},
     "output_type": "execute_result"
    }
   ],
   "source": [
    "accuracy.rmse(predictions)"
   ]
  },
  {
   "cell_type": "code",
   "execution_count": 11,
   "metadata": {},
   "outputs": [
    {
     "data": {
      "text/plain": [
       "[Prediction(uid=2555915, iid='ff596d1a-a1ec-467f-afb6-0219e7d87fe6', r_ui=0.0, est=0, details={'actual_k': 40, 'was_impossible': False}),\n",
       " Prediction(uid=654700, iid='4a2ed9a9-69e5-4053-9010-00cb336eb22b', r_ui=2.0, est=1.05, details={'actual_k': 40, 'was_impossible': False}),\n",
       " Prediction(uid=789316, iid='c360bd5e-51ed-40c3-b8ae-ed1623a6a128', r_ui=0.0, est=0, details={'actual_k': 40, 'was_impossible': False}),\n",
       " Prediction(uid=949751, iid='4c528d7a-c27d-44b4-81f3-87bbe58a6518', r_ui=0.0, est=0.025, details={'actual_k': 40, 'was_impossible': False}),\n",
       " Prediction(uid=283276, iid='df2ebe35-9b41-4b0f-84e7-18008c1206e0', r_ui=0.0, est=0, details={'actual_k': 40, 'was_impossible': False}),\n",
       " Prediction(uid=1275251, iid='2148db9c-9487-4c42-a6b4-ea382a1b9a08', r_ui=0.0, est=0, details={'actual_k': 40, 'was_impossible': False}),\n",
       " Prediction(uid=945220, iid='0fa9e0a1-99ea-4ac3-b36c-8fe319109e98', r_ui=1.0, est=1.0, details={'actual_k': 40, 'was_impossible': False}),\n",
       " Prediction(uid=2931102, iid='2cc7d428-2451-4e0c-9af4-42f6c9e5517c', r_ui=0.0, est=0, details={'actual_k': 40, 'was_impossible': False}),\n",
       " Prediction(uid=3424977, iid='7184d3d2-33e4-4f02-8af2-337839cf794f', r_ui=0.0, est=0, details={'actual_k': 40, 'was_impossible': False}),\n",
       " Prediction(uid=2033812, iid='04bab172-78fe-409c-8e5e-e304b3864919', r_ui=0.0, est=0, details={'actual_k': 40, 'was_impossible': False})]"
      ]
     },
     "execution_count": 11,
     "metadata": {},
     "output_type": "execute_result"
    }
   ],
   "source": [
    "predictions[:10]"
   ]
  },
  {
   "cell_type": "markdown",
   "metadata": {},
   "source": [
    "## Testa previsão de match com os dados brutos"
   ]
  },
  {
   "cell_type": "code",
   "execution_count": 12,
   "metadata": {},
   "outputs": [
    {
     "data": {
      "text/html": [
       "<div>\n",
       "<style scoped>\n",
       "    .dataframe tbody tr th:only-of-type {\n",
       "        vertical-align: middle;\n",
       "    }\n",
       "\n",
       "    .dataframe tbody tr th {\n",
       "        vertical-align: top;\n",
       "    }\n",
       "\n",
       "    .dataframe thead th {\n",
       "        text-align: right;\n",
       "    }\n",
       "</style>\n",
       "<table border=\"1\" class=\"dataframe\">\n",
       "  <thead>\n",
       "    <tr style=\"text-align: right;\">\n",
       "      <th></th>\n",
       "      <th>id_posicao</th>\n",
       "      <th>id_trabalhador</th>\n",
       "      <th>rating</th>\n",
       "    </tr>\n",
       "  </thead>\n",
       "  <tbody>\n",
       "    <tr>\n",
       "      <th>592059</th>\n",
       "      <td>45c7e0a2-cfd3-42d2-a4cb-3135b8da31b0</td>\n",
       "      <td>656919</td>\n",
       "      <td>1</td>\n",
       "    </tr>\n",
       "  </tbody>\n",
       "</table>\n",
       "</div>"
      ],
      "text/plain": [
       "                                  id_posicao  id_trabalhador  rating\n",
       "592059  45c7e0a2-cfd3-42d2-a4cb-3135b8da31b0          656919       1"
      ]
     },
     "execution_count": 12,
     "metadata": {},
     "output_type": "execute_result"
    }
   ],
   "source": [
    "df_rating[:1]"
   ]
  },
  {
   "cell_type": "code",
   "execution_count": 13,
   "metadata": {},
   "outputs": [
    {
     "data": {
      "text/plain": [
       "Prediction(uid=473833, iid='c2b5abaa-0cc1-4124-9469-0a017beb319f', r_ui=None, est=1.025, details={'actual_k': 40, 'was_impossible': False})"
      ]
     },
     "execution_count": 13,
     "metadata": {},
     "output_type": "execute_result"
    }
   ],
   "source": [
    "id_posicao = str('c2b5abaa-0cc1-4124-9469-0a017beb319f')\n",
    "id_trabalhador = 473833\n",
    "algo.predict(id_trabalhador, id_posicao)"
   ]
  },
  {
   "cell_type": "code",
   "execution_count": 32,
   "metadata": {},
   "outputs": [],
   "source": [
    "rating_results = []\n",
    "for index, row in df_rating[:500000].iterrows():\n",
    "    id_posicao = str(row.id_posicao)\n",
    "    id_trabalhador = row.id_trabalhador\n",
    "    #print(algo.predict(id_trabalhador, id_posicao))\n",
    "    prediction_rating = algo.predict(id_trabalhador, id_posicao).est\n",
    "    rating_results.append({'id_posicao':id_posicao,'id_trabalhador':id_trabalhador, 'prediction_rating':prediction_rating})"
   ]
  },
  {
   "cell_type": "code",
   "execution_count": 33,
   "metadata": {},
   "outputs": [
    {
     "name": "stdout",
     "output_type": "stream",
     "text": [
      "(500000, 3)\n"
     ]
    },
    {
     "data": {
      "text/html": [
       "<div>\n",
       "<style scoped>\n",
       "    .dataframe tbody tr th:only-of-type {\n",
       "        vertical-align: middle;\n",
       "    }\n",
       "\n",
       "    .dataframe tbody tr th {\n",
       "        vertical-align: top;\n",
       "    }\n",
       "\n",
       "    .dataframe thead th {\n",
       "        text-align: right;\n",
       "    }\n",
       "</style>\n",
       "<table border=\"1\" class=\"dataframe\">\n",
       "  <thead>\n",
       "    <tr style=\"text-align: right;\">\n",
       "      <th></th>\n",
       "      <th>id_posicao</th>\n",
       "      <th>id_trabalhador</th>\n",
       "      <th>prediction_rating</th>\n",
       "    </tr>\n",
       "  </thead>\n",
       "  <tbody>\n",
       "    <tr>\n",
       "      <th>0</th>\n",
       "      <td>45c7e0a2-cfd3-42d2-a4cb-3135b8da31b0</td>\n",
       "      <td>656919</td>\n",
       "      <td>1.0</td>\n",
       "    </tr>\n",
       "    <tr>\n",
       "      <th>1</th>\n",
       "      <td>087039ab-9a84-4f7c-a928-451d002d2e20</td>\n",
       "      <td>3092079</td>\n",
       "      <td>0.0</td>\n",
       "    </tr>\n",
       "    <tr>\n",
       "      <th>2</th>\n",
       "      <td>941fdd86-c783-479a-9850-72cfa4d08c16</td>\n",
       "      <td>2531415</td>\n",
       "      <td>0.0</td>\n",
       "    </tr>\n",
       "    <tr>\n",
       "      <th>3</th>\n",
       "      <td>59da28f6-7fc0-4b09-8633-007edd007607</td>\n",
       "      <td>232869</td>\n",
       "      <td>0.0</td>\n",
       "    </tr>\n",
       "    <tr>\n",
       "      <th>4</th>\n",
       "      <td>37dbfbed-1282-4b96-877c-a64c132dceba</td>\n",
       "      <td>490107</td>\n",
       "      <td>0.0</td>\n",
       "    </tr>\n",
       "  </tbody>\n",
       "</table>\n",
       "</div>"
      ],
      "text/plain": [
       "                             id_posicao  id_trabalhador  prediction_rating\n",
       "0  45c7e0a2-cfd3-42d2-a4cb-3135b8da31b0          656919                1.0\n",
       "1  087039ab-9a84-4f7c-a928-451d002d2e20         3092079                0.0\n",
       "2  941fdd86-c783-479a-9850-72cfa4d08c16         2531415                0.0\n",
       "3  59da28f6-7fc0-4b09-8633-007edd007607          232869                0.0\n",
       "4  37dbfbed-1282-4b96-877c-a64c132dceba          490107                0.0"
      ]
     },
     "execution_count": 33,
     "metadata": {},
     "output_type": "execute_result"
    }
   ],
   "source": [
    "df_results = pd.DataFrame(rating_results)\n",
    "print(df_results.shape)\n",
    "df_results.head()"
   ]
  },
  {
   "cell_type": "code",
   "execution_count": 34,
   "metadata": {},
   "outputs": [
    {
     "data": {
      "image/png": "[encoded data removed]",
      "text/plain": [
       "<Figure size 1440x720 with 1 Axes>"
      ]
     },
     "metadata": {
      "needs_background": "light"
     },
     "output_type": "display_data"
    }
   ],
   "source": [
    "df_results.prediction_rating.value_counts()[:2].plot.bar(figsize=(20,10));"
   ]
  },
  {
   "cell_type": "code",
   "execution_count": 35,
   "metadata": {},
   "outputs": [
    {
     "data": {
      "text/plain": [
       "0.000    300284\n",
       "1.000    158371\n",
       "0.025     13611\n",
       "1.025      6713\n",
       "0.050      3667\n",
       "0.075      1799\n",
       "1.050      1108\n",
       "0.100      1090\n",
       "0.125       570\n",
       "2.000       342\n",
       "Name: prediction_rating, dtype: int64"
      ]
     },
     "execution_count": 35,
     "metadata": {},
     "output_type": "execute_result"
    }
   ],
   "source": [
    "df_results.prediction_rating.value_counts()[:2]"
   ]
  },
  {
   "cell_type": "code",
   "execution_count": 36,
   "metadata": {},
   "outputs": [
    {
     "data": {
      "text/html": [
       "<div>\n",
       "<style scoped>\n",
       "    .dataframe tbody tr th:only-of-type {\n",
       "        vertical-align: middle;\n",
       "    }\n",
       "\n",
       "    .dataframe tbody tr th {\n",
       "        vertical-align: top;\n",
       "    }\n",
       "\n",
       "    .dataframe thead th {\n",
       "        text-align: right;\n",
       "    }\n",
       "</style>\n",
       "<table border=\"1\" class=\"dataframe\">\n",
       "  <thead>\n",
       "    <tr style=\"text-align: right;\">\n",
       "      <th></th>\n",
       "      <th>id_posicao</th>\n",
       "      <th>id_trabalhador</th>\n",
       "      <th>prediction_rating</th>\n",
       "    </tr>\n",
       "  </thead>\n",
       "  <tbody>\n",
       "    <tr>\n",
       "      <th>0</th>\n",
       "      <td>45c7e0a2-cfd3-42d2-a4cb-3135b8da31b0</td>\n",
       "      <td>656919</td>\n",
       "      <td>1.0</td>\n",
       "    </tr>\n",
       "    <tr>\n",
       "      <th>1</th>\n",
       "      <td>087039ab-9a84-4f7c-a928-451d002d2e20</td>\n",
       "      <td>3092079</td>\n",
       "      <td>0.0</td>\n",
       "    </tr>\n",
       "    <tr>\n",
       "      <th>2</th>\n",
       "      <td>941fdd86-c783-479a-9850-72cfa4d08c16</td>\n",
       "      <td>2531415</td>\n",
       "      <td>0.0</td>\n",
       "    </tr>\n",
       "    <tr>\n",
       "      <th>3</th>\n",
       "      <td>59da28f6-7fc0-4b09-8633-007edd007607</td>\n",
       "      <td>232869</td>\n",
       "      <td>0.0</td>\n",
       "    </tr>\n",
       "    <tr>\n",
       "      <th>4</th>\n",
       "      <td>37dbfbed-1282-4b96-877c-a64c132dceba</td>\n",
       "      <td>490107</td>\n",
       "      <td>0.0</td>\n",
       "    </tr>\n",
       "  </tbody>\n",
       "</table>\n",
       "</div>"
      ],
      "text/plain": [
       "                             id_posicao  id_trabalhador  prediction_rating\n",
       "0  45c7e0a2-cfd3-42d2-a4cb-3135b8da31b0          656919                1.0\n",
       "1  087039ab-9a84-4f7c-a928-451d002d2e20         3092079                0.0\n",
       "2  941fdd86-c783-479a-9850-72cfa4d08c16         2531415                0.0\n",
       "3  59da28f6-7fc0-4b09-8633-007edd007607          232869                0.0\n",
       "4  37dbfbed-1282-4b96-877c-a64c132dceba          490107                0.0"
      ]
     },
     "execution_count": 36,
     "metadata": {},
     "output_type": "execute_result"
    }
   ],
   "source": [
    "df_results.head()"
   ]
  },
  {
   "cell_type": "code",
   "execution_count": 38,
   "metadata": {},
   "outputs": [],
   "source": [
    "df_results.to_csv(\"../data/match_database.csv\", index=False)"
   ]
  },
  {
   "cell_type": "markdown",
   "metadata": {},
   "source": [
    "### Procura as melhores sugestões para um trabalhador"
   ]
  },
  {
   "cell_type": "code",
   "execution_count": 19,
   "metadata": {},
   "outputs": [
    {
     "name": "stderr",
     "output_type": "stream",
     "text": [
      "/home/chris/anaconda3/lib/python3.7/site-packages/IPython/core/interactiveshell.py:3049: DtypeWarning: Columns (3,4) have mixed types. Specify dtype option on import or set low_memory=False.\n",
      "  interactivity=interactivity, compiler=compiler, result=result)\n"
     ]
    }
   ],
   "source": [
    "df_trabalhadores = pd.read_csv(\"../data/D_ETL_IMO_EXTRACAO_SINE_ABERTO_TRABALHADORES_SP.csv\", sep=\";\", encoding=\"iso8859-1\")"
   ]
  },
  {
   "cell_type": "code",
   "execution_count": 20,
   "metadata": {},
   "outputs": [
    {
     "data": {
      "text/html": [
       "<div>\n",
       "<style scoped>\n",
       "    .dataframe tbody tr th:only-of-type {\n",
       "        vertical-align: middle;\n",
       "    }\n",
       "\n",
       "    .dataframe tbody tr th {\n",
       "        vertical-align: top;\n",
       "    }\n",
       "\n",
       "    .dataframe thead th {\n",
       "        text-align: right;\n",
       "    }\n",
       "</style>\n",
       "<table border=\"1\" class=\"dataframe\">\n",
       "  <thead>\n",
       "    <tr style=\"text-align: right;\">\n",
       "      <th></th>\n",
       "      <th>NACIONALIDADE</th>\n",
       "      <th>DEFICIENCIAS</th>\n",
       "      <th>BAIRRO</th>\n",
       "      <th>CEP</th>\n",
       "      <th>CODIGO_MUNICIPIO_IBGE</th>\n",
       "      <th>NOME_MUNICIPIO</th>\n",
       "      <th>UF</th>\n",
       "      <th>ESCOLARIDADE</th>\n",
       "      <th>ESTUDANTE</th>\n",
       "      <th>CURSOS_PROFISSIONALIZANTES</th>\n",
       "      <th>...</th>\n",
       "      <th>POS_GRADUACOES</th>\n",
       "      <th>IDIOMAS</th>\n",
       "      <th>HABILITACAO</th>\n",
       "      <th>VEICULOS</th>\n",
       "      <th>DISP_VIAJAR</th>\n",
       "      <th>DISP_DORMIR_EMP</th>\n",
       "      <th>DISP_AUSENTAR_DOMIC</th>\n",
       "      <th>PRETENSOES</th>\n",
       "      <th>MUNICIPIOS_INTERESSE</th>\n",
       "      <th>id</th>\n",
       "    </tr>\n",
       "  </thead>\n",
       "  <tbody>\n",
       "    <tr>\n",
       "      <th>2829159</th>\n",
       "      <td>BRASILEIRA</td>\n",
       "      <td>NaN</td>\n",
       "      <td>JARDIM SANTA CECILIA</td>\n",
       "      <td>7123240</td>\n",
       "      <td>351880</td>\n",
       "      <td>GUARULHOS</td>\n",
       "      <td>SP</td>\n",
       "      <td>Médio Completo</td>\n",
       "      <td>N</td>\n",
       "      <td>NaN</td>\n",
       "      <td>...</td>\n",
       "      <td>NaN</td>\n",
       "      <td>NaN</td>\n",
       "      <td>B</td>\n",
       "      <td>N</td>\n",
       "      <td>N</td>\n",
       "      <td>N</td>\n",
       "      <td>N</td>\n",
       "      <td>411005-Auxiliar de escritorio(N,21,0,Indiferen...</td>\n",
       "      <td>NaN</td>\n",
       "      <td>2829159</td>\n",
       "    </tr>\n",
       "  </tbody>\n",
       "</table>\n",
       "<p>1 rows × 21 columns</p>\n",
       "</div>"
      ],
      "text/plain": [
       "        NACIONALIDADE DEFICIENCIAS                BAIRRO      CEP  \\\n",
       "2829159    BRASILEIRA          NaN  JARDIM SANTA CECILIA  7123240   \n",
       "\n",
       "        CODIGO_MUNICIPIO_IBGE NOME_MUNICIPIO  UF    ESCOLARIDADE ESTUDANTE  \\\n",
       "2829159                351880      GUARULHOS  SP  Médio Completo         N   \n",
       "\n",
       "        CURSOS_PROFISSIONALIZANTES  ... POS_GRADUACOES IDIOMAS HABILITACAO  \\\n",
       "2829159                        NaN  ...            NaN     NaN           B   \n",
       "\n",
       "        VEICULOS DISP_VIAJAR DISP_DORMIR_EMP DISP_AUSENTAR_DOMIC  \\\n",
       "2829159        N           N               N                   N   \n",
       "\n",
       "                                                PRETENSOES  \\\n",
       "2829159  411005-Auxiliar de escritorio(N,21,0,Indiferen...   \n",
       "\n",
       "        MUNICIPIOS_INTERESSE       id  \n",
       "2829159                  NaN  2829159  \n",
       "\n",
       "[1 rows x 21 columns]"
      ]
     },
     "execution_count": 20,
     "metadata": {},
     "output_type": "execute_result"
    }
   ],
   "source": [
    "df_trabalhadores['id'] = df_trabalhadores.index\n",
    "df_trabalhadores[df_trabalhadores['id']==2829159]"
   ]
  },
  {
   "cell_type": "code",
   "execution_count": 21,
   "metadata": {},
   "outputs": [
    {
     "data": {
      "text/html": [
       "<div>\n",
       "<style scoped>\n",
       "    .dataframe tbody tr th:only-of-type {\n",
       "        vertical-align: middle;\n",
       "    }\n",
       "\n",
       "    .dataframe tbody tr th {\n",
       "        vertical-align: top;\n",
       "    }\n",
       "\n",
       "    .dataframe thead th {\n",
       "        text-align: right;\n",
       "    }\n",
       "</style>\n",
       "<table border=\"1\" class=\"dataframe\">\n",
       "  <thead>\n",
       "    <tr style=\"text-align: right;\">\n",
       "      <th></th>\n",
       "      <th>id_posicao</th>\n",
       "      <th>id_trabalhador</th>\n",
       "      <th>prediction_rating</th>\n",
       "    </tr>\n",
       "  </thead>\n",
       "  <tbody>\n",
       "    <tr>\n",
       "      <th>4834</th>\n",
       "      <td>8bb17d0d-ce9e-482b-9393-3bf84de28171</td>\n",
       "      <td>2829159</td>\n",
       "      <td>1.0</td>\n",
       "    </tr>\n",
       "  </tbody>\n",
       "</table>\n",
       "</div>"
      ],
      "text/plain": [
       "                                id_posicao  id_trabalhador  prediction_rating\n",
       "4834  8bb17d0d-ce9e-482b-9393-3bf84de28171         2829159                1.0"
      ]
     },
     "execution_count": 21,
     "metadata": {},
     "output_type": "execute_result"
    }
   ],
   "source": [
    "df_results[df_results['id_trabalhador']==2829159].sort_values(by=['prediction_rating'], ascending=False).head(10)"
   ]
  },
  {
   "cell_type": "markdown",
   "metadata": {},
   "source": [
    "### Procura os melhores trabalhadores para uma posição"
   ]
  },
  {
   "cell_type": "code",
   "execution_count": 22,
   "metadata": {},
   "outputs": [],
   "source": [
    "df_vagas = pd.read_csv(\"../data/vagas_mock.csv\")"
   ]
  },
  {
   "cell_type": "code",
   "execution_count": 23,
   "metadata": {},
   "outputs": [
    {
     "data": {
      "text/html": [
       "<div>\n",
       "<style scoped>\n",
       "    .dataframe tbody tr th:only-of-type {\n",
       "        vertical-align: middle;\n",
       "    }\n",
       "\n",
       "    .dataframe tbody tr th {\n",
       "        vertical-align: top;\n",
       "    }\n",
       "\n",
       "    .dataframe thead th {\n",
       "        text-align: right;\n",
       "    }\n",
       "</style>\n",
       "<table border=\"1\" class=\"dataframe\">\n",
       "  <thead>\n",
       "    <tr style=\"text-align: right;\">\n",
       "      <th></th>\n",
       "      <th>cidade</th>\n",
       "      <th>escolaridade</th>\n",
       "      <th>graduacao</th>\n",
       "      <th>id_empresa</th>\n",
       "      <th>industria</th>\n",
       "      <th>nome_empresa</th>\n",
       "      <th>posicao</th>\n",
       "    </tr>\n",
       "  </thead>\n",
       "  <tbody>\n",
       "    <tr>\n",
       "      <th>15857</th>\n",
       "      <td>SAO VICENTE</td>\n",
       "      <td>Médio Completo</td>\n",
       "      <td>Nenhum</td>\n",
       "      <td>8420aae7-7128-4120-b915-249587933cd2</td>\n",
       "      <td>Energia</td>\n",
       "      <td>extend holistic partnerships</td>\n",
       "      <td>414140-Auxiliar de logistica</td>\n",
       "    </tr>\n",
       "  </tbody>\n",
       "</table>\n",
       "</div>"
      ],
      "text/plain": [
       "            cidade    escolaridade graduacao  \\\n",
       "15857  SAO VICENTE  Médio Completo    Nenhum   \n",
       "\n",
       "                                 id_empresa industria  \\\n",
       "15857  8420aae7-7128-4120-b915-249587933cd2   Energia   \n",
       "\n",
       "                       nome_empresa                       posicao  \n",
       "15857  extend holistic partnerships  414140-Auxiliar de logistica  "
      ]
     },
     "execution_count": 23,
     "metadata": {},
     "output_type": "execute_result"
    }
   ],
   "source": [
    "df_vagas[df_vagas['id_empresa']=='8420aae7-7128-4120-b915-249587933cd2']"
   ]
  },
  {
   "cell_type": "code",
   "execution_count": 24,
   "metadata": {},
   "outputs": [
    {
     "data": {
      "text/html": [
       "<div>\n",
       "<style scoped>\n",
       "    .dataframe tbody tr th:only-of-type {\n",
       "        vertical-align: middle;\n",
       "    }\n",
       "\n",
       "    .dataframe tbody tr th {\n",
       "        vertical-align: top;\n",
       "    }\n",
       "\n",
       "    .dataframe thead th {\n",
       "        text-align: right;\n",
       "    }\n",
       "</style>\n",
       "<table border=\"1\" class=\"dataframe\">\n",
       "  <thead>\n",
       "    <tr style=\"text-align: right;\">\n",
       "      <th></th>\n",
       "      <th>id_posicao</th>\n",
       "      <th>id_trabalhador</th>\n",
       "      <th>prediction_rating</th>\n",
       "    </tr>\n",
       "  </thead>\n",
       "  <tbody>\n",
       "    <tr>\n",
       "      <th>400</th>\n",
       "      <td>8420aae7-7128-4120-b915-249587933cd2</td>\n",
       "      <td>3232129</td>\n",
       "      <td>1.0</td>\n",
       "    </tr>\n",
       "    <tr>\n",
       "      <th>2307</th>\n",
       "      <td>8420aae7-7128-4120-b915-249587933cd2</td>\n",
       "      <td>1068876</td>\n",
       "      <td>0.0</td>\n",
       "    </tr>\n",
       "    <tr>\n",
       "      <th>4969</th>\n",
       "      <td>8420aae7-7128-4120-b915-249587933cd2</td>\n",
       "      <td>2931932</td>\n",
       "      <td>0.0</td>\n",
       "    </tr>\n",
       "  </tbody>\n",
       "</table>\n",
       "</div>"
      ],
      "text/plain": [
       "                                id_posicao  id_trabalhador  prediction_rating\n",
       "400   8420aae7-7128-4120-b915-249587933cd2         3232129                1.0\n",
       "2307  8420aae7-7128-4120-b915-249587933cd2         1068876                0.0\n",
       "4969  8420aae7-7128-4120-b915-249587933cd2         2931932                0.0"
      ]
     },
     "execution_count": 24,
     "metadata": {},
     "output_type": "execute_result"
    }
   ],
   "source": [
    "df_results[df_results['id_posicao']=='8420aae7-7128-4120-b915-249587933cd2'].sort_values(by=['prediction_rating'], ascending=False).head(10)"
   ]
  },
  {
   "cell_type": "code",
   "execution_count": 25,
   "metadata": {},
   "outputs": [
    {
     "data": {
      "text/html": [
       "<div>\n",
       "<style scoped>\n",
       "    .dataframe tbody tr th:only-of-type {\n",
       "        vertical-align: middle;\n",
       "    }\n",
       "\n",
       "    .dataframe tbody tr th {\n",
       "        vertical-align: top;\n",
       "    }\n",
       "\n",
       "    .dataframe thead th {\n",
       "        text-align: right;\n",
       "    }\n",
       "</style>\n",
       "<table border=\"1\" class=\"dataframe\">\n",
       "  <thead>\n",
       "    <tr style=\"text-align: right;\">\n",
       "      <th></th>\n",
       "      <th>NACIONALIDADE</th>\n",
       "      <th>DEFICIENCIAS</th>\n",
       "      <th>BAIRRO</th>\n",
       "      <th>CEP</th>\n",
       "      <th>CODIGO_MUNICIPIO_IBGE</th>\n",
       "      <th>NOME_MUNICIPIO</th>\n",
       "      <th>UF</th>\n",
       "      <th>ESCOLARIDADE</th>\n",
       "      <th>ESTUDANTE</th>\n",
       "      <th>CURSOS_PROFISSIONALIZANTES</th>\n",
       "      <th>...</th>\n",
       "      <th>POS_GRADUACOES</th>\n",
       "      <th>IDIOMAS</th>\n",
       "      <th>HABILITACAO</th>\n",
       "      <th>VEICULOS</th>\n",
       "      <th>DISP_VIAJAR</th>\n",
       "      <th>DISP_DORMIR_EMP</th>\n",
       "      <th>DISP_AUSENTAR_DOMIC</th>\n",
       "      <th>PRETENSOES</th>\n",
       "      <th>MUNICIPIOS_INTERESSE</th>\n",
       "      <th>id</th>\n",
       "    </tr>\n",
       "  </thead>\n",
       "  <tbody>\n",
       "    <tr>\n",
       "      <th>895873</th>\n",
       "      <td>BRASILEIRA</td>\n",
       "      <td>NaN</td>\n",
       "      <td>NaN</td>\n",
       "      <td>11330200</td>\n",
       "      <td>355100</td>\n",
       "      <td>SAO VICENTE</td>\n",
       "      <td>SP</td>\n",
       "      <td>Médio Completo</td>\n",
       "      <td>N</td>\n",
       "      <td>NaN</td>\n",
       "      <td>...</td>\n",
       "      <td>NaN</td>\n",
       "      <td>NaN</td>\n",
       "      <td>Nenhum</td>\n",
       "      <td>N</td>\n",
       "      <td>N</td>\n",
       "      <td>N</td>\n",
       "      <td>N</td>\n",
       "      <td>421125-Operador de caixa(N,36,0,Indiferente)</td>\n",
       "      <td>NaN</td>\n",
       "      <td>895873</td>\n",
       "    </tr>\n",
       "  </tbody>\n",
       "</table>\n",
       "<p>1 rows × 21 columns</p>\n",
       "</div>"
      ],
      "text/plain": [
       "       NACIONALIDADE DEFICIENCIAS BAIRRO       CEP CODIGO_MUNICIPIO_IBGE  \\\n",
       "895873    BRASILEIRA          NaN    NaN  11330200                355100   \n",
       "\n",
       "       NOME_MUNICIPIO  UF    ESCOLARIDADE ESTUDANTE  \\\n",
       "895873    SAO VICENTE  SP  Médio Completo         N   \n",
       "\n",
       "       CURSOS_PROFISSIONALIZANTES  ... POS_GRADUACOES IDIOMAS HABILITACAO  \\\n",
       "895873                        NaN  ...            NaN     NaN      Nenhum   \n",
       "\n",
       "       VEICULOS DISP_VIAJAR DISP_DORMIR_EMP DISP_AUSENTAR_DOMIC  \\\n",
       "895873        N           N               N                   N   \n",
       "\n",
       "                                          PRETENSOES MUNICIPIOS_INTERESSE  \\\n",
       "895873  421125-Operador de caixa(N,36,0,Indiferente)                  NaN   \n",
       "\n",
       "            id  \n",
       "895873  895873  \n",
       "\n",
       "[1 rows x 21 columns]"
      ]
     },
     "execution_count": 25,
     "metadata": {},
     "output_type": "execute_result"
    }
   ],
   "source": [
    "df_trabalhadores[df_trabalhadores['id']==895873]"
   ]
  },
  {
   "cell_type": "markdown",
   "metadata": {},
   "source": [
    "## Persist model"
   ]
  },
  {
   "cell_type": "code",
   "execution_count": 45,
   "metadata": {},
   "outputs": [
    {
     "name": "stdout",
     "output_type": "stream",
     "text": [
      "The dump has been saved as file ../models/surprise-knn.pkl\n"
     ]
    }
   ],
   "source": [
    "dump.dump('../models/surprise-knn.pkl', algo=algo, verbose=1)"
   ]
  },
  {
   "cell_type": "code",
   "execution_count": 46,
   "metadata": {},
   "outputs": [
    {
     "data": {
      "text/plain": [
       "Prediction(uid=800493, iid='e6fad8c5-1624-4db0-929c-bcf63ec618f5', r_ui=None, est=1.0, details={'actual_k': 40, 'was_impossible': False})"
      ]
     },
     "execution_count": 46,
     "metadata": {},
     "output_type": "execute_result"
    }
   ],
   "source": [
    "algo = dump.load('../models/surprise-knn.pkl')\n",
    "algo[1].predict(id_trabalhador, id_posicao)"
   ]
  },
  {
   "cell_type": "code",
   "execution_count": null,
   "metadata": {},
   "outputs": [],
   "source": []
  }
 ],
 "metadata": {
  "kernelspec": {
   "display_name": "Python 3",
   "language": "python",
   "name": "python3"
  },
  "language_info": {
   "codemirror_mode": {
    "name": "ipython",
    "version": 3
   },
   "file_extension": ".py",
   "mimetype": "text/x-python",
   "name": "python",
   "nbconvert_exporter": "python",
   "pygments_lexer": "ipython3",
   "version": "3.7.3"
  }
 },
 "nbformat": 4,
 "nbformat_minor": 2
}
